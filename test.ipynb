{
  "cells": [
    {
      "cell_type": "markdown",
      "metadata": {
        "id": "view-in-github",
        "colab_type": "text"
      },
      "source": [
        "<a href=\"https://colab.research.google.com/github/dfatpnuk/bayesian-rl/blob/main/test.ipynb\" target=\"_parent\"><img src=\"https://colab.research.google.com/assets/colab-badge.svg\" alt=\"Open In Colab\"/></a>"
      ]
    },
    {
      "cell_type": "code",
      "execution_count": null,
      "metadata": {
        "id": "z4h8oOd_stfE"
      },
      "outputs": [],
      "source": [
        "import pgmpy\n",
        "import numpy"
      ]
    },
    {
      "cell_type": "code",
      "source": [
        "from pgmpy.models import BayesianNetwork\n",
        "G = BayesianNetwork()"
      ],
      "metadata": {
        "id": "4WMDCBWRs3vI"
      },
      "execution_count": null,
      "outputs": []
    },
    {
      "cell_type": "code",
      "source": [
        "G.add_nodes_from(['a', 'b'])\n",
        "G.add_edges_from([('a', 'b'), ('b', 'c')])"
      ],
      "metadata": {
        "id": "NoOSMg7Qs2mG"
      },
      "execution_count": null,
      "outputs": []
    },
    {
      "cell_type": "code",
      "source": [
        "from pgmpy.models import BayesianNetwork\n",
        "from pgmpy.factors.discrete.CPD import TabularCPD\n",
        "student = BayesianNetwork([('diff', 'grades'), ('aptitude', 'grades')])\n",
        "grades_cpd = TabularCPD('grades', 3, [[0.1,0.1,0.1,0.1,0.1,0.1],\n",
        "                                      [0.1,0.1,0.1,0.1,0.1,0.1],\n",
        "                                      [0.8,0.8,0.8,0.8,0.8,0.8]],\n",
        "                        evidence=['diff', 'aptitude'], evidence_card=[2, 3],\n",
        "                        state_names={'grades': ['gradeA', 'gradeB', 'gradeC'],\n",
        "                                     'diff': ['easy', 'hard'],\n",
        "                                     'aptitude': ['low', 'medium', 'high']})\n",
        "student.add_cpds(grades_cpd)"
      ],
      "metadata": {
        "id": "smmph2bbtSod"
      },
      "execution_count": null,
      "outputs": []
    },
    {
      "cell_type": "code",
      "source": [
        "from pgmpy.models import BayesianNetwork\n",
        "G = BayesianNetwork()\n",
        "G.add_nodes_from(['grade', 'intel'])\n",
        "G.add_edge('grade', 'intel')"
      ],
      "metadata": {
        "id": "gf-dOjhSuvwH"
      },
      "execution_count": null,
      "outputs": []
    },
    {
      "cell_type": "code",
      "source": [
        "from pgmpy.models import BayesianNetwork\n",
        "from pgmpy.factors.discrete import TabularCPD\n",
        "model = BayesianNetwork([('A', 'B'), ('B', 'C')])\n",
        "cpd_a = TabularCPD('A', 2, [[0.2], [0.8]])\n",
        "cpd_b = TabularCPD('B', 2, [[0.3, 0.7], [0.7, 0.3]],\n",
        "                   evidence=['A'],\n",
        "                   evidence_card=[2])\n",
        "cpd_c = TabularCPD('C', 2, [[0.1, 0.9], [0.9, 0.1]],\n",
        "                   evidence=['B'],\n",
        "                   evidence_card=[2])\n",
        "model.add_cpds(cpd_a, cpd_b, cpd_c)\n",
        "copy_model = model.copy()\n",
        "copy_model.nodes()\n",
        "copy_model.edges()\n",
        "len(copy_model.get_cpds())"
      ],
      "metadata": {
        "id": "Kul472AUuziI",
        "outputId": "2ca9b602-97e5-42d8-9fb9-e85ee076fead",
        "colab": {
          "base_uri": "https://localhost:8080/"
        }
      },
      "execution_count": null,
      "outputs": [
        {
          "output_type": "execute_result",
          "data": {
            "text/plain": [
              "3"
            ]
          },
          "metadata": {},
          "execution_count": 17
        }
      ]
    },
    {
      "cell_type": "code",
      "source": [
        "from pgmpy.utils import get_example_model\n",
        "asia = get_example_model('asia')\n",
        "asia.edges()\n",
        "do_bronc = asia.do(['bronc'])"
      ],
      "metadata": {
        "id": "VkPBtz_TvC4b"
      },
      "execution_count": null,
      "outputs": []
    },
    {
      "cell_type": "code",
      "source": [
        "asia.edges()"
      ],
      "metadata": {
        "id": "XFbVLmekvT3-",
        "outputId": "c53feb16-3759-48f0-e5f2-f46c2630e887",
        "colab": {
          "base_uri": "https://localhost:8080/"
        }
      },
      "execution_count": null,
      "outputs": [
        {
          "output_type": "execute_result",
          "data": {
            "text/plain": [
              "OutEdgeView([('asia', 'tub'), ('tub', 'either'), ('smoke', 'lung'), ('smoke', 'bronc'), ('lung', 'either'), ('bronc', 'dysp'), ('either', 'xray'), ('either', 'dysp')])"
            ]
          },
          "metadata": {},
          "execution_count": 20
        }
      ]
    },
    {
      "cell_type": "code",
      "source": [
        "import pandas as pd\n",
        "from pgmpy.models import BayesianNetwork\n",
        "from pgmpy.estimators import MaximumLikelihoodEstimator\n",
        "data = pd.DataFrame(data={'A': [0, 0, 1], 'B': [0, 1, 0], 'C': [1, 1, 0]})\n",
        "model = BayesianNetwork([('A', 'C'), ('B', 'C')])\n",
        "model.fit(data)\n",
        "model.get_cpds()"
      ],
      "metadata": {
        "id": "Jlw2R-fWveDv",
        "outputId": "82c35434-ccef-432b-e8b0-66c37662f211",
        "colab": {
          "base_uri": "https://localhost:8080/"
        }
      },
      "execution_count": null,
      "outputs": [
        {
          "output_type": "execute_result",
          "data": {
            "text/plain": [
              "[<TabularCPD representing P(A:2) at 0x78142c1572e0>,\n",
              " <TabularCPD representing P(C:2 | A:2, B:2) at 0x78142c155990>,\n",
              " <TabularCPD representing P(B:2) at 0x78142c155a20>]"
            ]
          },
          "metadata": {},
          "execution_count": 21
        }
      ]
    },
    {
      "cell_type": "markdown",
      "metadata": {
        "id": "W5gKqZV2stfF"
      },
      "source": [
        "Examples taken from: https://pgmpy.org/models/bayesiannetwork.html"
      ]
    },
    {
      "cell_type": "code",
      "source": [
        "from pgmpy.utils import get_example_model\n",
        "from pgmpy.sampling import BayesianModelSampling\n",
        "model = get_example_model('alarm')\n",
        "# Generate some new data.\n",
        "data = BayesianModelSampling(model).forward_sample(int(1e3))\n",
        "model.fit_update(data)"
      ],
      "metadata": {
        "id": "30sm4oeLv6jN",
        "outputId": "815fd762-a50f-46ee-d8a9-5257e64350a3",
        "colab": {
          "base_uri": "https://localhost:8080/",
          "height": 724,
          "referenced_widgets": [
            "81c292f828714fd4bb8c9309c12edb44",
            "385e722a3b1a434bbd25b43e408766b2",
            "8f05a64ac87a4300b6848423c9c63b0f",
            "a4d09890739e47b19cc1e93f367f8aaa",
            "80803a3d9068453492008af763c28a15",
            "b1542e969795482d82a5ce81572e00db",
            "ea9378b312d9429cb020ea7446c77fdc",
            "994bc21acc74400d988651cd111363d7",
            "d44c4324819a4bc7be4738549aaec641",
            "6217f5a1747b4b76b31de6961a2ebb62",
            "b867c64a5187436a9cf03863230bf7d0"
          ]
        }
      },
      "execution_count": null,
      "outputs": [
        {
          "output_type": "display_data",
          "data": {
            "text/plain": [
              "  0%|          | 0/37 [00:00<?, ?it/s]"
            ],
            "application/vnd.jupyter.widget-view+json": {
              "version_major": 2,
              "version_minor": 0,
              "model_id": "81c292f828714fd4bb8c9309c12edb44"
            }
          },
          "metadata": {}
        },
        {
          "output_type": "stream",
          "name": "stderr",
          "text": [
            "WARNING:pgmpy:Probability values don't exactly sum to 1. Differ by: 1.1102230246251565e-16. Adjusting values.\n",
            "WARNING:pgmpy:Probability values don't exactly sum to 1. Differ by: 1.0000000005838672e-07. Adjusting values.\n",
            "WARNING:pgmpy:Probability values don't exactly sum to 1. Differ by: 1.0000000005838672e-07. Adjusting values.\n",
            "WARNING:pgmpy:Probability values don't exactly sum to 1. Differ by: 1.1102230246251565e-16. Adjusting values.\n",
            "WARNING:pgmpy:Replacing existing CPD for HISTORY\n",
            "WARNING:pgmpy:Replacing existing CPD for CVP\n",
            "WARNING:pgmpy:Replacing existing CPD for PCWP\n",
            "WARNING:pgmpy:Replacing existing CPD for HYPOVOLEMIA\n",
            "WARNING:pgmpy:Replacing existing CPD for LVEDVOLUME\n",
            "WARNING:pgmpy:Replacing existing CPD for LVFAILURE\n",
            "WARNING:pgmpy:Replacing existing CPD for STROKEVOLUME\n",
            "WARNING:pgmpy:Replacing existing CPD for ERRLOWOUTPUT\n",
            "WARNING:pgmpy:Replacing existing CPD for HRBP\n",
            "WARNING:pgmpy:Replacing existing CPD for HREKG\n",
            "WARNING:pgmpy:Replacing existing CPD for ERRCAUTER\n",
            "WARNING:pgmpy:Replacing existing CPD for HRSAT\n",
            "WARNING:pgmpy:Replacing existing CPD for INSUFFANESTH\n",
            "WARNING:pgmpy:Replacing existing CPD for ANAPHYLAXIS\n",
            "WARNING:pgmpy:Replacing existing CPD for TPR\n",
            "WARNING:pgmpy:Replacing existing CPD for EXPCO2\n",
            "WARNING:pgmpy:Replacing existing CPD for KINKEDTUBE\n",
            "WARNING:pgmpy:Replacing existing CPD for MINVOL\n",
            "WARNING:pgmpy:Replacing existing CPD for FIO2\n",
            "WARNING:pgmpy:Replacing existing CPD for PVSAT\n",
            "WARNING:pgmpy:Replacing existing CPD for SAO2\n",
            "WARNING:pgmpy:Replacing existing CPD for PAP\n",
            "WARNING:pgmpy:Replacing existing CPD for PULMEMBOLUS\n",
            "WARNING:pgmpy:Replacing existing CPD for SHUNT\n",
            "WARNING:pgmpy:Replacing existing CPD for INTUBATION\n",
            "WARNING:pgmpy:Replacing existing CPD for PRESS\n",
            "WARNING:pgmpy:Replacing existing CPD for DISCONNECT\n",
            "WARNING:pgmpy:Replacing existing CPD for MINVOLSET\n",
            "WARNING:pgmpy:Replacing existing CPD for VENTMACH\n",
            "WARNING:pgmpy:Replacing existing CPD for VENTTUBE\n",
            "WARNING:pgmpy:Replacing existing CPD for VENTLUNG\n",
            "WARNING:pgmpy:Replacing existing CPD for VENTALV\n",
            "WARNING:pgmpy:Replacing existing CPD for ARTCO2\n",
            "WARNING:pgmpy:Replacing existing CPD for CATECHOL\n",
            "WARNING:pgmpy:Replacing existing CPD for HR\n",
            "WARNING:pgmpy:Replacing existing CPD for CO\n",
            "WARNING:pgmpy:Replacing existing CPD for BP\n"
          ]
        }
      ]
    },
    {
      "cell_type": "markdown",
      "metadata": {
        "id": "iVG_v0itstfF"
      },
      "source": [
        "Can we apply Reinforcement Learning to Bayesian Network Structure Learning?\n",
        "\n",
        "Can we apply a greedy hill-climbing approach to this task?"
      ]
    }
  ],
  "metadata": {
    "kernelspec": {
      "display_name": "Python 3",
      "language": "python",
      "name": "python3"
    },
    "language_info": {
      "codemirror_mode": {
        "name": "ipython",
        "version": 3
      },
      "file_extension": ".py",
      "mimetype": "text/x-python",
      "name": "python",
      "nbconvert_exporter": "python",
      "pygments_lexer": "ipython3",
      "version": "3.12.0"
    },
    "colab": {
      "provenance": [],
      "include_colab_link": true
    },
    "widgets": {
      "application/vnd.jupyter.widget-state+json": {
        "81c292f828714fd4bb8c9309c12edb44": {
          "model_module": "@jupyter-widgets/controls",
          "model_name": "HBoxModel",
          "model_module_version": "1.5.0",
          "state": {
            "_dom_classes": [],
            "_model_module": "@jupyter-widgets/controls",
            "_model_module_version": "1.5.0",
            "_model_name": "HBoxModel",
            "_view_count": null,
            "_view_module": "@jupyter-widgets/controls",
            "_view_module_version": "1.5.0",
            "_view_name": "HBoxView",
            "box_style": "",
            "children": [
              "IPY_MODEL_385e722a3b1a434bbd25b43e408766b2",
              "IPY_MODEL_8f05a64ac87a4300b6848423c9c63b0f",
              "IPY_MODEL_a4d09890739e47b19cc1e93f367f8aaa"
            ],
            "layout": "IPY_MODEL_80803a3d9068453492008af763c28a15"
          }
        },
        "385e722a3b1a434bbd25b43e408766b2": {
          "model_module": "@jupyter-widgets/controls",
          "model_name": "HTMLModel",
          "model_module_version": "1.5.0",
          "state": {
            "_dom_classes": [],
            "_model_module": "@jupyter-widgets/controls",
            "_model_module_version": "1.5.0",
            "_model_name": "HTMLModel",
            "_view_count": null,
            "_view_module": "@jupyter-widgets/controls",
            "_view_module_version": "1.5.0",
            "_view_name": "HTMLView",
            "description": "",
            "description_tooltip": null,
            "layout": "IPY_MODEL_b1542e969795482d82a5ce81572e00db",
            "placeholder": "​",
            "style": "IPY_MODEL_ea9378b312d9429cb020ea7446c77fdc",
            "value": "Generating for node: BP: 100%"
          }
        },
        "8f05a64ac87a4300b6848423c9c63b0f": {
          "model_module": "@jupyter-widgets/controls",
          "model_name": "FloatProgressModel",
          "model_module_version": "1.5.0",
          "state": {
            "_dom_classes": [],
            "_model_module": "@jupyter-widgets/controls",
            "_model_module_version": "1.5.0",
            "_model_name": "FloatProgressModel",
            "_view_count": null,
            "_view_module": "@jupyter-widgets/controls",
            "_view_module_version": "1.5.0",
            "_view_name": "ProgressView",
            "bar_style": "success",
            "description": "",
            "description_tooltip": null,
            "layout": "IPY_MODEL_994bc21acc74400d988651cd111363d7",
            "max": 37,
            "min": 0,
            "orientation": "horizontal",
            "style": "IPY_MODEL_d44c4324819a4bc7be4738549aaec641",
            "value": 37
          }
        },
        "a4d09890739e47b19cc1e93f367f8aaa": {
          "model_module": "@jupyter-widgets/controls",
          "model_name": "HTMLModel",
          "model_module_version": "1.5.0",
          "state": {
            "_dom_classes": [],
            "_model_module": "@jupyter-widgets/controls",
            "_model_module_version": "1.5.0",
            "_model_name": "HTMLModel",
            "_view_count": null,
            "_view_module": "@jupyter-widgets/controls",
            "_view_module_version": "1.5.0",
            "_view_name": "HTMLView",
            "description": "",
            "description_tooltip": null,
            "layout": "IPY_MODEL_6217f5a1747b4b76b31de6961a2ebb62",
            "placeholder": "​",
            "style": "IPY_MODEL_b867c64a5187436a9cf03863230bf7d0",
            "value": " 37/37 [00:00&lt;00:00, 228.69it/s]"
          }
        },
        "80803a3d9068453492008af763c28a15": {
          "model_module": "@jupyter-widgets/base",
          "model_name": "LayoutModel",
          "model_module_version": "1.2.0",
          "state": {
            "_model_module": "@jupyter-widgets/base",
            "_model_module_version": "1.2.0",
            "_model_name": "LayoutModel",
            "_view_count": null,
            "_view_module": "@jupyter-widgets/base",
            "_view_module_version": "1.2.0",
            "_view_name": "LayoutView",
            "align_content": null,
            "align_items": null,
            "align_self": null,
            "border": null,
            "bottom": null,
            "display": null,
            "flex": null,
            "flex_flow": null,
            "grid_area": null,
            "grid_auto_columns": null,
            "grid_auto_flow": null,
            "grid_auto_rows": null,
            "grid_column": null,
            "grid_gap": null,
            "grid_row": null,
            "grid_template_areas": null,
            "grid_template_columns": null,
            "grid_template_rows": null,
            "height": null,
            "justify_content": null,
            "justify_items": null,
            "left": null,
            "margin": null,
            "max_height": null,
            "max_width": null,
            "min_height": null,
            "min_width": null,
            "object_fit": null,
            "object_position": null,
            "order": null,
            "overflow": null,
            "overflow_x": null,
            "overflow_y": null,
            "padding": null,
            "right": null,
            "top": null,
            "visibility": null,
            "width": null
          }
        },
        "b1542e969795482d82a5ce81572e00db": {
          "model_module": "@jupyter-widgets/base",
          "model_name": "LayoutModel",
          "model_module_version": "1.2.0",
          "state": {
            "_model_module": "@jupyter-widgets/base",
            "_model_module_version": "1.2.0",
            "_model_name": "LayoutModel",
            "_view_count": null,
            "_view_module": "@jupyter-widgets/base",
            "_view_module_version": "1.2.0",
            "_view_name": "LayoutView",
            "align_content": null,
            "align_items": null,
            "align_self": null,
            "border": null,
            "bottom": null,
            "display": null,
            "flex": null,
            "flex_flow": null,
            "grid_area": null,
            "grid_auto_columns": null,
            "grid_auto_flow": null,
            "grid_auto_rows": null,
            "grid_column": null,
            "grid_gap": null,
            "grid_row": null,
            "grid_template_areas": null,
            "grid_template_columns": null,
            "grid_template_rows": null,
            "height": null,
            "justify_content": null,
            "justify_items": null,
            "left": null,
            "margin": null,
            "max_height": null,
            "max_width": null,
            "min_height": null,
            "min_width": null,
            "object_fit": null,
            "object_position": null,
            "order": null,
            "overflow": null,
            "overflow_x": null,
            "overflow_y": null,
            "padding": null,
            "right": null,
            "top": null,
            "visibility": null,
            "width": null
          }
        },
        "ea9378b312d9429cb020ea7446c77fdc": {
          "model_module": "@jupyter-widgets/controls",
          "model_name": "DescriptionStyleModel",
          "model_module_version": "1.5.0",
          "state": {
            "_model_module": "@jupyter-widgets/controls",
            "_model_module_version": "1.5.0",
            "_model_name": "DescriptionStyleModel",
            "_view_count": null,
            "_view_module": "@jupyter-widgets/base",
            "_view_module_version": "1.2.0",
            "_view_name": "StyleView",
            "description_width": ""
          }
        },
        "994bc21acc74400d988651cd111363d7": {
          "model_module": "@jupyter-widgets/base",
          "model_name": "LayoutModel",
          "model_module_version": "1.2.0",
          "state": {
            "_model_module": "@jupyter-widgets/base",
            "_model_module_version": "1.2.0",
            "_model_name": "LayoutModel",
            "_view_count": null,
            "_view_module": "@jupyter-widgets/base",
            "_view_module_version": "1.2.0",
            "_view_name": "LayoutView",
            "align_content": null,
            "align_items": null,
            "align_self": null,
            "border": null,
            "bottom": null,
            "display": null,
            "flex": null,
            "flex_flow": null,
            "grid_area": null,
            "grid_auto_columns": null,
            "grid_auto_flow": null,
            "grid_auto_rows": null,
            "grid_column": null,
            "grid_gap": null,
            "grid_row": null,
            "grid_template_areas": null,
            "grid_template_columns": null,
            "grid_template_rows": null,
            "height": null,
            "justify_content": null,
            "justify_items": null,
            "left": null,
            "margin": null,
            "max_height": null,
            "max_width": null,
            "min_height": null,
            "min_width": null,
            "object_fit": null,
            "object_position": null,
            "order": null,
            "overflow": null,
            "overflow_x": null,
            "overflow_y": null,
            "padding": null,
            "right": null,
            "top": null,
            "visibility": null,
            "width": null
          }
        },
        "d44c4324819a4bc7be4738549aaec641": {
          "model_module": "@jupyter-widgets/controls",
          "model_name": "ProgressStyleModel",
          "model_module_version": "1.5.0",
          "state": {
            "_model_module": "@jupyter-widgets/controls",
            "_model_module_version": "1.5.0",
            "_model_name": "ProgressStyleModel",
            "_view_count": null,
            "_view_module": "@jupyter-widgets/base",
            "_view_module_version": "1.2.0",
            "_view_name": "StyleView",
            "bar_color": null,
            "description_width": ""
          }
        },
        "6217f5a1747b4b76b31de6961a2ebb62": {
          "model_module": "@jupyter-widgets/base",
          "model_name": "LayoutModel",
          "model_module_version": "1.2.0",
          "state": {
            "_model_module": "@jupyter-widgets/base",
            "_model_module_version": "1.2.0",
            "_model_name": "LayoutModel",
            "_view_count": null,
            "_view_module": "@jupyter-widgets/base",
            "_view_module_version": "1.2.0",
            "_view_name": "LayoutView",
            "align_content": null,
            "align_items": null,
            "align_self": null,
            "border": null,
            "bottom": null,
            "display": null,
            "flex": null,
            "flex_flow": null,
            "grid_area": null,
            "grid_auto_columns": null,
            "grid_auto_flow": null,
            "grid_auto_rows": null,
            "grid_column": null,
            "grid_gap": null,
            "grid_row": null,
            "grid_template_areas": null,
            "grid_template_columns": null,
            "grid_template_rows": null,
            "height": null,
            "justify_content": null,
            "justify_items": null,
            "left": null,
            "margin": null,
            "max_height": null,
            "max_width": null,
            "min_height": null,
            "min_width": null,
            "object_fit": null,
            "object_position": null,
            "order": null,
            "overflow": null,
            "overflow_x": null,
            "overflow_y": null,
            "padding": null,
            "right": null,
            "top": null,
            "visibility": null,
            "width": null
          }
        },
        "b867c64a5187436a9cf03863230bf7d0": {
          "model_module": "@jupyter-widgets/controls",
          "model_name": "DescriptionStyleModel",
          "model_module_version": "1.5.0",
          "state": {
            "_model_module": "@jupyter-widgets/controls",
            "_model_module_version": "1.5.0",
            "_model_name": "DescriptionStyleModel",
            "_view_count": null,
            "_view_module": "@jupyter-widgets/base",
            "_view_module_version": "1.2.0",
            "_view_name": "StyleView",
            "description_width": ""
          }
        }
      }
    }
  },
  "nbformat": 4,
  "nbformat_minor": 0
}