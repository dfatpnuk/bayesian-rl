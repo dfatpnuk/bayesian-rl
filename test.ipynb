{
  "cells": [
    {
      "cell_type": "markdown",
      "metadata": {
        "id": "view-in-github",
        "colab_type": "text"
      },
      "source": [
        "<a href=\"https://colab.research.google.com/github/dfatpnuk/bayesian-rl/blob/main/test.ipynb\" target=\"_parent\"><img src=\"https://colab.research.google.com/assets/colab-badge.svg\" alt=\"Open In Colab\"/></a>"
      ]
    },
    {
      "cell_type": "code",
      "execution_count": null,
      "metadata": {
        "id": "z4h8oOd_stfE"
      },
      "outputs": [],
      "source": [
        "import pgmpy\n",
        "import numpy as np"
      ]
    },
    {
      "cell_type": "code",
      "source": [
        "from pgmpy.models import BayesianNetwork\n",
        "G = BayesianNetwork()"
      ],
      "metadata": {
        "id": "4WMDCBWRs3vI"
      },
      "execution_count": null,
      "outputs": []
    },
    {
      "cell_type": "code",
      "source": [
        "G.add_nodes_from(['a', 'b'])\n",
        "G.add_edges_from([('a', 'b'), ('b', 'c')])"
      ],
      "metadata": {
        "id": "NoOSMg7Qs2mG"
      },
      "execution_count": null,
      "outputs": []
    },
    {
      "cell_type": "code",
      "source": [
        "from pgmpy.models import BayesianNetwork\n",
        "from pgmpy.factors.discrete.CPD import TabularCPD\n",
        "student = BayesianNetwork([('diff', 'grades'), ('aptitude', 'grades')])\n",
        "grades_cpd = TabularCPD('grades', 3, [[0.1,0.1,0.1,0.1,0.1,0.1],\n",
        "                                      [0.1,0.1,0.1,0.1,0.1,0.1],\n",
        "                                      [0.8,0.8,0.8,0.8,0.8,0.8]],\n",
        "                        evidence=['diff', 'aptitude'], evidence_card=[2, 3],\n",
        "                        state_names={'grades': ['gradeA', 'gradeB', 'gradeC'],\n",
        "                                     'diff': ['easy', 'hard'],\n",
        "                                     'aptitude': ['low', 'medium', 'high']})\n",
        "student.add_cpds(grades_cpd)"
      ],
      "metadata": {
        "id": "smmph2bbtSod"
      },
      "execution_count": null,
      "outputs": []
    },
    {
      "cell_type": "code",
      "source": [
        "from pgmpy.models import BayesianNetwork\n",
        "G = BayesianNetwork()\n",
        "G.add_nodes_from(['grade', 'intel'])\n",
        "G.add_edge('grade', 'intel')"
      ],
      "metadata": {
        "id": "gf-dOjhSuvwH"
      },
      "execution_count": null,
      "outputs": []
    },
    {
      "cell_type": "code",
      "source": [
        "from pgmpy.models import BayesianNetwork\n",
        "from pgmpy.factors.discrete import TabularCPD\n",
        "model = BayesianNetwork([('A', 'B'), ('B', 'C')])\n",
        "cpd_a = TabularCPD('A', 2, [[0.2], [0.8]])\n",
        "cpd_b = TabularCPD('B', 2, [[0.3, 0.7], [0.7, 0.3]],\n",
        "                   evidence=['A'],\n",
        "                   evidence_card=[2])\n",
        "cpd_c = TabularCPD('C', 2, [[0.1, 0.9], [0.9, 0.1]],\n",
        "                   evidence=['B'],\n",
        "                   evidence_card=[2])\n",
        "model.add_cpds(cpd_a, cpd_b, cpd_c)\n",
        "copy_model = model.copy()\n",
        "copy_model.nodes()\n",
        "copy_model.edges()\n",
        "len(copy_model.get_cpds())"
      ],
      "metadata": {
        "id": "Kul472AUuziI",
        "outputId": "8669f404-1408-4dd1-87c7-86ee441f9806",
        "colab": {
          "base_uri": "https://localhost:8080/"
        }
      },
      "execution_count": null,
      "outputs": [
        {
          "output_type": "execute_result",
          "data": {
            "text/plain": [
              "3"
            ]
          },
          "metadata": {},
          "execution_count": 6
        }
      ]
    },
    {
      "cell_type": "code",
      "source": [
        "from pgmpy.utils import get_example_model\n",
        "asia = get_example_model('asia')\n",
        "asia.edges()\n",
        "do_bronc = asia.do(['bronc'])"
      ],
      "metadata": {
        "id": "VkPBtz_TvC4b"
      },
      "execution_count": null,
      "outputs": []
    },
    {
      "cell_type": "code",
      "source": [
        "asia.edges()"
      ],
      "metadata": {
        "id": "XFbVLmekvT3-",
        "outputId": "d7e0a16f-5bcf-46db-c271-a76e71496fd5",
        "colab": {
          "base_uri": "https://localhost:8080/"
        }
      },
      "execution_count": null,
      "outputs": [
        {
          "output_type": "execute_result",
          "data": {
            "text/plain": [
              "OutEdgeView([('asia', 'tub'), ('tub', 'either'), ('smoke', 'lung'), ('smoke', 'bronc'), ('lung', 'either'), ('bronc', 'dysp'), ('either', 'xray'), ('either', 'dysp')])"
            ]
          },
          "metadata": {},
          "execution_count": 8
        }
      ]
    },
    {
      "cell_type": "code",
      "source": [
        "import pandas as pd\n",
        "from pgmpy.models import BayesianNetwork\n",
        "from pgmpy.estimators import MaximumLikelihoodEstimator\n",
        "data = pd.DataFrame(data={'A': [0, 0, 1], 'B': [0, 1, 0], 'C': [1, 1, 0]})\n",
        "model = BayesianNetwork([('A', 'C'), ('B', 'C')])\n",
        "model.fit(data)\n",
        "model.get_cpds()"
      ],
      "metadata": {
        "id": "Jlw2R-fWveDv",
        "outputId": "7bb946a7-3988-4412-f398-633108cfd277",
        "colab": {
          "base_uri": "https://localhost:8080/"
        }
      },
      "execution_count": null,
      "outputs": [
        {
          "output_type": "execute_result",
          "data": {
            "text/plain": [
              "[<TabularCPD representing P(A:2) at 0x78e04e1afeb0>,\n",
              " <TabularCPD representing P(C:2 | A:2, B:2) at 0x78e04e20d8d0>,\n",
              " <TabularCPD representing P(B:2) at 0x78e04e20c040>]"
            ]
          },
          "metadata": {},
          "execution_count": 9
        }
      ]
    },
    {
      "cell_type": "markdown",
      "metadata": {
        "id": "W5gKqZV2stfF"
      },
      "source": [
        "Examples taken from: https://pgmpy.org/models/bayesiannetwork.html"
      ]
    },
    {
      "cell_type": "code",
      "source": [
        "from pgmpy.utils import get_example_model\n",
        "from pgmpy.sampling import BayesianModelSampling\n",
        "model = get_example_model('alarm')\n",
        "# Generate some new data.\n",
        "data = BayesianModelSampling(model).forward_sample(int(1e3))\n",
        "model.fit_update(data)"
      ],
      "metadata": {
        "id": "30sm4oeLv6jN",
        "outputId": "076ed05e-5376-4554-c676-799e00d613d1",
        "colab": {
          "base_uri": "https://localhost:8080/",
          "height": 729,
          "referenced_widgets": [
            "a2d5566012c444e385bb566a950fc7d4",
            "77093251d9794041aecc6edb1b8b15ef",
            "2a8b015d518a4b64ba6bff5a9b6118ac",
            "1fb2b3b51bd441afbf549e7ed40e3097",
            "4a89cb79d1bb4bccb3660026ef9ce313",
            "9192fc7fffc843289461059b2207c5a6",
            "974fb9fb3880474a93c1efbf52b0d1dd",
            "976c128cdf09434da00fa76ee37bfb8b",
            "c6f72a44513548e68e21385c61a2b2b9",
            "a17c1c81bf6e427aa97193817893aa9d",
            "46410cf33dd64f58bf81df6723674e24"
          ]
        }
      },
      "execution_count": null,
      "outputs": [
        {
          "output_type": "display_data",
          "data": {
            "text/plain": [
              "  0%|          | 0/37 [00:00<?, ?it/s]"
            ],
            "application/vnd.jupyter.widget-view+json": {
              "version_major": 2,
              "version_minor": 0,
              "model_id": "a2d5566012c444e385bb566a950fc7d4"
            }
          },
          "metadata": {}
        },
        {
          "output_type": "stream",
          "name": "stderr",
          "text": [
            "WARNING:pgmpy:Probability values don't exactly sum to 1. Differ by: 1.0000000005838672e-07. Adjusting values.\n",
            "WARNING:pgmpy:Probability values don't exactly sum to 1. Differ by: 1.0000000005838672e-07. Adjusting values.\n",
            "WARNING:pgmpy:Probability values don't exactly sum to 1. Differ by: 1.1102230246251565e-16. Adjusting values.\n",
            "WARNING:pgmpy:Replacing existing CPD for HISTORY\n",
            "WARNING:pgmpy:Replacing existing CPD for CVP\n",
            "WARNING:pgmpy:Replacing existing CPD for PCWP\n",
            "WARNING:pgmpy:Replacing existing CPD for HYPOVOLEMIA\n",
            "WARNING:pgmpy:Replacing existing CPD for LVEDVOLUME\n",
            "WARNING:pgmpy:Replacing existing CPD for LVFAILURE\n",
            "WARNING:pgmpy:Replacing existing CPD for STROKEVOLUME\n",
            "WARNING:pgmpy:Replacing existing CPD for ERRLOWOUTPUT\n",
            "WARNING:pgmpy:Replacing existing CPD for HRBP\n",
            "WARNING:pgmpy:Replacing existing CPD for HREKG\n",
            "WARNING:pgmpy:Replacing existing CPD for ERRCAUTER\n",
            "WARNING:pgmpy:Replacing existing CPD for HRSAT\n",
            "WARNING:pgmpy:Replacing existing CPD for INSUFFANESTH\n",
            "WARNING:pgmpy:Replacing existing CPD for ANAPHYLAXIS\n",
            "WARNING:pgmpy:Replacing existing CPD for TPR\n",
            "WARNING:pgmpy:Replacing existing CPD for EXPCO2\n",
            "WARNING:pgmpy:Replacing existing CPD for KINKEDTUBE\n",
            "WARNING:pgmpy:Replacing existing CPD for MINVOL\n",
            "WARNING:pgmpy:Replacing existing CPD for FIO2\n",
            "WARNING:pgmpy:Replacing existing CPD for PVSAT\n",
            "WARNING:pgmpy:Replacing existing CPD for SAO2\n",
            "WARNING:pgmpy:Replacing existing CPD for PAP\n",
            "WARNING:pgmpy:Replacing existing CPD for PULMEMBOLUS\n",
            "WARNING:pgmpy:Replacing existing CPD for SHUNT\n",
            "WARNING:pgmpy:Replacing existing CPD for INTUBATION\n",
            "WARNING:pgmpy:Replacing existing CPD for PRESS\n",
            "WARNING:pgmpy:Replacing existing CPD for DISCONNECT\n",
            "WARNING:pgmpy:Replacing existing CPD for MINVOLSET\n",
            "WARNING:pgmpy:Replacing existing CPD for VENTMACH\n",
            "WARNING:pgmpy:Replacing existing CPD for VENTTUBE\n",
            "WARNING:pgmpy:Replacing existing CPD for VENTLUNG\n",
            "WARNING:pgmpy:Replacing existing CPD for VENTALV\n",
            "WARNING:pgmpy:Replacing existing CPD for ARTCO2\n",
            "WARNING:pgmpy:Replacing existing CPD for CATECHOL\n",
            "WARNING:pgmpy:Replacing existing CPD for HR\n",
            "WARNING:pgmpy:Replacing existing CPD for CO\n",
            "WARNING:pgmpy:Replacing existing CPD for BP\n"
          ]
        }
      ]
    },
    {
      "cell_type": "markdown",
      "metadata": {
        "id": "iVG_v0itstfF"
      },
      "source": [
        "Can we apply Reinforcement Learning to Bayesian Network Structure Learning?\n",
        "\n",
        "Can we apply a greedy hill-climbing approach to this task?"
      ]
    },
    {
      "cell_type": "markdown",
      "source": [
        "Structure Learning Example https://pgmpy.org/examples/Structure%20Learning%20in%20Bayesian%20Networks.html"
      ],
      "metadata": {
        "id": "HAxmQyaGyaVx"
      }
    },
    {
      "cell_type": "code",
      "source": [
        "from itertools import combinations\n",
        "\n",
        "import networkx as nx\n",
        "from sklearn.metrics import f1_score\n",
        "\n",
        "from pgmpy.estimators import PC, HillClimbSearch, ExhaustiveSearch\n",
        "from pgmpy.estimators import K2Score\n",
        "from pgmpy.utils import get_example_model\n",
        "from pgmpy.sampling import BayesianModelSampling"
      ],
      "metadata": {
        "id": "w7RhmW4FyXJV"
      },
      "execution_count": null,
      "outputs": []
    },
    {
      "cell_type": "code",
      "source": [
        "model = get_example_model(\"alarm\")\n",
        "samples = BayesianModelSampling(model).forward_sample(size=int(1e3))\n",
        "samples.head()"
      ],
      "metadata": {
        "id": "jlUR9z4lzVJ3",
        "outputId": "5523da44-3ff3-43b0-b680-e3a9d1e7babf",
        "colab": {
          "base_uri": "https://localhost:8080/",
          "height": 353,
          "referenced_widgets": [
            "c6b3bd22487e4ad2adc4d54597211668",
            "f810aa507080438abf0b4125916b404f",
            "5fbd9d5d8441496083696e86d44c6732",
            "643f9bdfbfdd4f1cbe4fa09873788d4b",
            "79e0c3b7927f4647a472228ca275f5b0",
            "c6334e16a9f244988dee165c91106d31",
            "d6f6f2f47a2943efb285f7fb712e3343",
            "591320670bdc446eb357292959b1a70b",
            "b3b421f57f2e40189ac09ff26be52eb3",
            "acb1e5fefe51468a82a0f933264da45e",
            "0109a52bc90f4a83ae2ef34b4434b286"
          ]
        }
      },
      "execution_count": null,
      "outputs": [
        {
          "output_type": "display_data",
          "data": {
            "text/plain": [
              "  0%|          | 0/37 [00:00<?, ?it/s]"
            ],
            "application/vnd.jupyter.widget-view+json": {
              "version_major": 2,
              "version_minor": 0,
              "model_id": "c6b3bd22487e4ad2adc4d54597211668"
            }
          },
          "metadata": {}
        },
        {
          "output_type": "stream",
          "name": "stderr",
          "text": [
            "WARNING:pgmpy:Probability values don't exactly sum to 1. Differ by: 1.1102230246251565e-16. Adjusting values.\n",
            "WARNING:pgmpy:Probability values don't exactly sum to 1. Differ by: 1.0000000005838672e-07. Adjusting values.\n",
            "WARNING:pgmpy:Probability values don't exactly sum to 1. Differ by: 1.0000000005838672e-07. Adjusting values.\n",
            "WARNING:pgmpy:Probability values don't exactly sum to 1. Differ by: 1.1102230246251565e-16. Adjusting values.\n"
          ]
        },
        {
          "output_type": "execute_result",
          "data": {
            "text/plain": [
              "  HISTORY     CVP    PCWP HYPOVOLEMIA LVEDVOLUME LVFAILURE STROKEVOLUME  \\\n",
              "0   FALSE  NORMAL    HIGH        TRUE       HIGH     FALSE       NORMAL   \n",
              "1   FALSE    HIGH    HIGH       FALSE       HIGH     FALSE         HIGH   \n",
              "2   FALSE  NORMAL  NORMAL       FALSE     NORMAL     FALSE       NORMAL   \n",
              "3   FALSE  NORMAL  NORMAL       FALSE     NORMAL     FALSE       NORMAL   \n",
              "4   FALSE  NORMAL    HIGH        TRUE       HIGH     FALSE          LOW   \n",
              "\n",
              "  ERRLOWOUTPUT    HRBP HREKG  ... MINVOLSET VENTMACH VENTTUBE VENTLUNG  \\\n",
              "0        FALSE    HIGH  HIGH  ...    NORMAL   NORMAL      LOW     ZERO   \n",
              "1        FALSE    HIGH  HIGH  ...    NORMAL   NORMAL      LOW     ZERO   \n",
              "2         TRUE  NORMAL  HIGH  ...    NORMAL   NORMAL      LOW     ZERO   \n",
              "3        FALSE    HIGH  HIGH  ...    NORMAL   NORMAL      LOW      LOW   \n",
              "4        FALSE    HIGH  HIGH  ...    NORMAL   NORMAL      LOW     ZERO   \n",
              "\n",
              "  VENTALV ARTCO2 CATECHOL    HR      CO    BP  \n",
              "0    ZERO   HIGH     HIGH  HIGH  NORMAL   LOW  \n",
              "1    ZERO   HIGH     HIGH  HIGH    HIGH  HIGH  \n",
              "2    ZERO   HIGH     HIGH  HIGH    HIGH   LOW  \n",
              "3    HIGH    LOW     HIGH  HIGH    HIGH  HIGH  \n",
              "4    ZERO   HIGH     HIGH  HIGH  NORMAL   LOW  \n",
              "\n",
              "[5 rows x 37 columns]"
            ],
            "text/html": [
              "\n",
              "  <div id=\"df-81590947-5d92-43b5-94f4-b7d7db542177\" class=\"colab-df-container\">\n",
              "    <div>\n",
              "<style scoped>\n",
              "    .dataframe tbody tr th:only-of-type {\n",
              "        vertical-align: middle;\n",
              "    }\n",
              "\n",
              "    .dataframe tbody tr th {\n",
              "        vertical-align: top;\n",
              "    }\n",
              "\n",
              "    .dataframe thead th {\n",
              "        text-align: right;\n",
              "    }\n",
              "</style>\n",
              "<table border=\"1\" class=\"dataframe\">\n",
              "  <thead>\n",
              "    <tr style=\"text-align: right;\">\n",
              "      <th></th>\n",
              "      <th>HISTORY</th>\n",
              "      <th>CVP</th>\n",
              "      <th>PCWP</th>\n",
              "      <th>HYPOVOLEMIA</th>\n",
              "      <th>LVEDVOLUME</th>\n",
              "      <th>LVFAILURE</th>\n",
              "      <th>STROKEVOLUME</th>\n",
              "      <th>ERRLOWOUTPUT</th>\n",
              "      <th>HRBP</th>\n",
              "      <th>HREKG</th>\n",
              "      <th>...</th>\n",
              "      <th>MINVOLSET</th>\n",
              "      <th>VENTMACH</th>\n",
              "      <th>VENTTUBE</th>\n",
              "      <th>VENTLUNG</th>\n",
              "      <th>VENTALV</th>\n",
              "      <th>ARTCO2</th>\n",
              "      <th>CATECHOL</th>\n",
              "      <th>HR</th>\n",
              "      <th>CO</th>\n",
              "      <th>BP</th>\n",
              "    </tr>\n",
              "  </thead>\n",
              "  <tbody>\n",
              "    <tr>\n",
              "      <th>0</th>\n",
              "      <td>FALSE</td>\n",
              "      <td>NORMAL</td>\n",
              "      <td>HIGH</td>\n",
              "      <td>TRUE</td>\n",
              "      <td>HIGH</td>\n",
              "      <td>FALSE</td>\n",
              "      <td>NORMAL</td>\n",
              "      <td>FALSE</td>\n",
              "      <td>HIGH</td>\n",
              "      <td>HIGH</td>\n",
              "      <td>...</td>\n",
              "      <td>NORMAL</td>\n",
              "      <td>NORMAL</td>\n",
              "      <td>LOW</td>\n",
              "      <td>ZERO</td>\n",
              "      <td>ZERO</td>\n",
              "      <td>HIGH</td>\n",
              "      <td>HIGH</td>\n",
              "      <td>HIGH</td>\n",
              "      <td>NORMAL</td>\n",
              "      <td>LOW</td>\n",
              "    </tr>\n",
              "    <tr>\n",
              "      <th>1</th>\n",
              "      <td>FALSE</td>\n",
              "      <td>HIGH</td>\n",
              "      <td>HIGH</td>\n",
              "      <td>FALSE</td>\n",
              "      <td>HIGH</td>\n",
              "      <td>FALSE</td>\n",
              "      <td>HIGH</td>\n",
              "      <td>FALSE</td>\n",
              "      <td>HIGH</td>\n",
              "      <td>HIGH</td>\n",
              "      <td>...</td>\n",
              "      <td>NORMAL</td>\n",
              "      <td>NORMAL</td>\n",
              "      <td>LOW</td>\n",
              "      <td>ZERO</td>\n",
              "      <td>ZERO</td>\n",
              "      <td>HIGH</td>\n",
              "      <td>HIGH</td>\n",
              "      <td>HIGH</td>\n",
              "      <td>HIGH</td>\n",
              "      <td>HIGH</td>\n",
              "    </tr>\n",
              "    <tr>\n",
              "      <th>2</th>\n",
              "      <td>FALSE</td>\n",
              "      <td>NORMAL</td>\n",
              "      <td>NORMAL</td>\n",
              "      <td>FALSE</td>\n",
              "      <td>NORMAL</td>\n",
              "      <td>FALSE</td>\n",
              "      <td>NORMAL</td>\n",
              "      <td>TRUE</td>\n",
              "      <td>NORMAL</td>\n",
              "      <td>HIGH</td>\n",
              "      <td>...</td>\n",
              "      <td>NORMAL</td>\n",
              "      <td>NORMAL</td>\n",
              "      <td>LOW</td>\n",
              "      <td>ZERO</td>\n",
              "      <td>ZERO</td>\n",
              "      <td>HIGH</td>\n",
              "      <td>HIGH</td>\n",
              "      <td>HIGH</td>\n",
              "      <td>HIGH</td>\n",
              "      <td>LOW</td>\n",
              "    </tr>\n",
              "    <tr>\n",
              "      <th>3</th>\n",
              "      <td>FALSE</td>\n",
              "      <td>NORMAL</td>\n",
              "      <td>NORMAL</td>\n",
              "      <td>FALSE</td>\n",
              "      <td>NORMAL</td>\n",
              "      <td>FALSE</td>\n",
              "      <td>NORMAL</td>\n",
              "      <td>FALSE</td>\n",
              "      <td>HIGH</td>\n",
              "      <td>HIGH</td>\n",
              "      <td>...</td>\n",
              "      <td>NORMAL</td>\n",
              "      <td>NORMAL</td>\n",
              "      <td>LOW</td>\n",
              "      <td>LOW</td>\n",
              "      <td>HIGH</td>\n",
              "      <td>LOW</td>\n",
              "      <td>HIGH</td>\n",
              "      <td>HIGH</td>\n",
              "      <td>HIGH</td>\n",
              "      <td>HIGH</td>\n",
              "    </tr>\n",
              "    <tr>\n",
              "      <th>4</th>\n",
              "      <td>FALSE</td>\n",
              "      <td>NORMAL</td>\n",
              "      <td>HIGH</td>\n",
              "      <td>TRUE</td>\n",
              "      <td>HIGH</td>\n",
              "      <td>FALSE</td>\n",
              "      <td>LOW</td>\n",
              "      <td>FALSE</td>\n",
              "      <td>HIGH</td>\n",
              "      <td>HIGH</td>\n",
              "      <td>...</td>\n",
              "      <td>NORMAL</td>\n",
              "      <td>NORMAL</td>\n",
              "      <td>LOW</td>\n",
              "      <td>ZERO</td>\n",
              "      <td>ZERO</td>\n",
              "      <td>HIGH</td>\n",
              "      <td>HIGH</td>\n",
              "      <td>HIGH</td>\n",
              "      <td>NORMAL</td>\n",
              "      <td>LOW</td>\n",
              "    </tr>\n",
              "  </tbody>\n",
              "</table>\n",
              "<p>5 rows × 37 columns</p>\n",
              "</div>\n",
              "    <div class=\"colab-df-buttons\">\n",
              "\n",
              "  <div class=\"colab-df-container\">\n",
              "    <button class=\"colab-df-convert\" onclick=\"convertToInteractive('df-81590947-5d92-43b5-94f4-b7d7db542177')\"\n",
              "            title=\"Convert this dataframe to an interactive table.\"\n",
              "            style=\"display:none;\">\n",
              "\n",
              "  <svg xmlns=\"http://www.w3.org/2000/svg\" height=\"24px\" viewBox=\"0 -960 960 960\">\n",
              "    <path d=\"M120-120v-720h720v720H120Zm60-500h600v-160H180v160Zm220 220h160v-160H400v160Zm0 220h160v-160H400v160ZM180-400h160v-160H180v160Zm440 0h160v-160H620v160ZM180-180h160v-160H180v160Zm440 0h160v-160H620v160Z\"/>\n",
              "  </svg>\n",
              "    </button>\n",
              "\n",
              "  <style>\n",
              "    .colab-df-container {\n",
              "      display:flex;\n",
              "      gap: 12px;\n",
              "    }\n",
              "\n",
              "    .colab-df-convert {\n",
              "      background-color: #E8F0FE;\n",
              "      border: none;\n",
              "      border-radius: 50%;\n",
              "      cursor: pointer;\n",
              "      display: none;\n",
              "      fill: #1967D2;\n",
              "      height: 32px;\n",
              "      padding: 0 0 0 0;\n",
              "      width: 32px;\n",
              "    }\n",
              "\n",
              "    .colab-df-convert:hover {\n",
              "      background-color: #E2EBFA;\n",
              "      box-shadow: 0px 1px 2px rgba(60, 64, 67, 0.3), 0px 1px 3px 1px rgba(60, 64, 67, 0.15);\n",
              "      fill: #174EA6;\n",
              "    }\n",
              "\n",
              "    .colab-df-buttons div {\n",
              "      margin-bottom: 4px;\n",
              "    }\n",
              "\n",
              "    [theme=dark] .colab-df-convert {\n",
              "      background-color: #3B4455;\n",
              "      fill: #D2E3FC;\n",
              "    }\n",
              "\n",
              "    [theme=dark] .colab-df-convert:hover {\n",
              "      background-color: #434B5C;\n",
              "      box-shadow: 0px 1px 3px 1px rgba(0, 0, 0, 0.15);\n",
              "      filter: drop-shadow(0px 1px 2px rgba(0, 0, 0, 0.3));\n",
              "      fill: #FFFFFF;\n",
              "    }\n",
              "  </style>\n",
              "\n",
              "    <script>\n",
              "      const buttonEl =\n",
              "        document.querySelector('#df-81590947-5d92-43b5-94f4-b7d7db542177 button.colab-df-convert');\n",
              "      buttonEl.style.display =\n",
              "        google.colab.kernel.accessAllowed ? 'block' : 'none';\n",
              "\n",
              "      async function convertToInteractive(key) {\n",
              "        const element = document.querySelector('#df-81590947-5d92-43b5-94f4-b7d7db542177');\n",
              "        const dataTable =\n",
              "          await google.colab.kernel.invokeFunction('convertToInteractive',\n",
              "                                                    [key], {});\n",
              "        if (!dataTable) return;\n",
              "\n",
              "        const docLinkHtml = 'Like what you see? Visit the ' +\n",
              "          '<a target=\"_blank\" href=https://colab.research.google.com/notebooks/data_table.ipynb>data table notebook</a>'\n",
              "          + ' to learn more about interactive tables.';\n",
              "        element.innerHTML = '';\n",
              "        dataTable['output_type'] = 'display_data';\n",
              "        await google.colab.output.renderOutput(dataTable, element);\n",
              "        const docLink = document.createElement('div');\n",
              "        docLink.innerHTML = docLinkHtml;\n",
              "        element.appendChild(docLink);\n",
              "      }\n",
              "    </script>\n",
              "  </div>\n",
              "\n",
              "\n",
              "<div id=\"df-be2220aa-6ca0-4c23-8f0e-87bc1a550564\">\n",
              "  <button class=\"colab-df-quickchart\" onclick=\"quickchart('df-be2220aa-6ca0-4c23-8f0e-87bc1a550564')\"\n",
              "            title=\"Suggest charts\"\n",
              "            style=\"display:none;\">\n",
              "\n",
              "<svg xmlns=\"http://www.w3.org/2000/svg\" height=\"24px\"viewBox=\"0 0 24 24\"\n",
              "     width=\"24px\">\n",
              "    <g>\n",
              "        <path d=\"M19 3H5c-1.1 0-2 .9-2 2v14c0 1.1.9 2 2 2h14c1.1 0 2-.9 2-2V5c0-1.1-.9-2-2-2zM9 17H7v-7h2v7zm4 0h-2V7h2v10zm4 0h-2v-4h2v4z\"/>\n",
              "    </g>\n",
              "</svg>\n",
              "  </button>\n",
              "\n",
              "<style>\n",
              "  .colab-df-quickchart {\n",
              "      --bg-color: #E8F0FE;\n",
              "      --fill-color: #1967D2;\n",
              "      --hover-bg-color: #E2EBFA;\n",
              "      --hover-fill-color: #174EA6;\n",
              "      --disabled-fill-color: #AAA;\n",
              "      --disabled-bg-color: #DDD;\n",
              "  }\n",
              "\n",
              "  [theme=dark] .colab-df-quickchart {\n",
              "      --bg-color: #3B4455;\n",
              "      --fill-color: #D2E3FC;\n",
              "      --hover-bg-color: #434B5C;\n",
              "      --hover-fill-color: #FFFFFF;\n",
              "      --disabled-bg-color: #3B4455;\n",
              "      --disabled-fill-color: #666;\n",
              "  }\n",
              "\n",
              "  .colab-df-quickchart {\n",
              "    background-color: var(--bg-color);\n",
              "    border: none;\n",
              "    border-radius: 50%;\n",
              "    cursor: pointer;\n",
              "    display: none;\n",
              "    fill: var(--fill-color);\n",
              "    height: 32px;\n",
              "    padding: 0;\n",
              "    width: 32px;\n",
              "  }\n",
              "\n",
              "  .colab-df-quickchart:hover {\n",
              "    background-color: var(--hover-bg-color);\n",
              "    box-shadow: 0 1px 2px rgba(60, 64, 67, 0.3), 0 1px 3px 1px rgba(60, 64, 67, 0.15);\n",
              "    fill: var(--button-hover-fill-color);\n",
              "  }\n",
              "\n",
              "  .colab-df-quickchart-complete:disabled,\n",
              "  .colab-df-quickchart-complete:disabled:hover {\n",
              "    background-color: var(--disabled-bg-color);\n",
              "    fill: var(--disabled-fill-color);\n",
              "    box-shadow: none;\n",
              "  }\n",
              "\n",
              "  .colab-df-spinner {\n",
              "    border: 2px solid var(--fill-color);\n",
              "    border-color: transparent;\n",
              "    border-bottom-color: var(--fill-color);\n",
              "    animation:\n",
              "      spin 1s steps(1) infinite;\n",
              "  }\n",
              "\n",
              "  @keyframes spin {\n",
              "    0% {\n",
              "      border-color: transparent;\n",
              "      border-bottom-color: var(--fill-color);\n",
              "      border-left-color: var(--fill-color);\n",
              "    }\n",
              "    20% {\n",
              "      border-color: transparent;\n",
              "      border-left-color: var(--fill-color);\n",
              "      border-top-color: var(--fill-color);\n",
              "    }\n",
              "    30% {\n",
              "      border-color: transparent;\n",
              "      border-left-color: var(--fill-color);\n",
              "      border-top-color: var(--fill-color);\n",
              "      border-right-color: var(--fill-color);\n",
              "    }\n",
              "    40% {\n",
              "      border-color: transparent;\n",
              "      border-right-color: var(--fill-color);\n",
              "      border-top-color: var(--fill-color);\n",
              "    }\n",
              "    60% {\n",
              "      border-color: transparent;\n",
              "      border-right-color: var(--fill-color);\n",
              "    }\n",
              "    80% {\n",
              "      border-color: transparent;\n",
              "      border-right-color: var(--fill-color);\n",
              "      border-bottom-color: var(--fill-color);\n",
              "    }\n",
              "    90% {\n",
              "      border-color: transparent;\n",
              "      border-bottom-color: var(--fill-color);\n",
              "    }\n",
              "  }\n",
              "</style>\n",
              "\n",
              "  <script>\n",
              "    async function quickchart(key) {\n",
              "      const quickchartButtonEl =\n",
              "        document.querySelector('#' + key + ' button');\n",
              "      quickchartButtonEl.disabled = true;  // To prevent multiple clicks.\n",
              "      quickchartButtonEl.classList.add('colab-df-spinner');\n",
              "      try {\n",
              "        const charts = await google.colab.kernel.invokeFunction(\n",
              "            'suggestCharts', [key], {});\n",
              "      } catch (error) {\n",
              "        console.error('Error during call to suggestCharts:', error);\n",
              "      }\n",
              "      quickchartButtonEl.classList.remove('colab-df-spinner');\n",
              "      quickchartButtonEl.classList.add('colab-df-quickchart-complete');\n",
              "    }\n",
              "    (() => {\n",
              "      let quickchartButtonEl =\n",
              "        document.querySelector('#df-be2220aa-6ca0-4c23-8f0e-87bc1a550564 button');\n",
              "      quickchartButtonEl.style.display =\n",
              "        google.colab.kernel.accessAllowed ? 'block' : 'none';\n",
              "    })();\n",
              "  </script>\n",
              "</div>\n",
              "\n",
              "    </div>\n",
              "  </div>\n"
            ]
          },
          "metadata": {},
          "execution_count": 12
        }
      ]
    },
    {
      "cell_type": "code",
      "source": [
        "# Funtion to evaluate the learned model structures.\n",
        "def get_f1_score(estimated_model, true_model):\n",
        "    nodes = estimated_model.nodes()\n",
        "    est_adj = nx.to_numpy_array(\n",
        "        estimated_model.to_undirected(), nodelist=nodes, weight=None\n",
        "    )\n",
        "    true_adj = nx.to_numpy_array(\n",
        "        true_model.to_undirected(), nodelist=nodes, weight=None\n",
        "    )\n",
        "\n",
        "    f1 = f1_score(np.ravel(true_adj), np.ravel(est_adj))\n",
        "    print(\"F1-score for the model skeleton: \", f1)"
      ],
      "metadata": {
        "id": "ZL04b79pzZQc"
      },
      "execution_count": null,
      "outputs": []
    },
    {
      "cell_type": "code",
      "source": [
        "#Learning the structure using Hill Climbing\n",
        "scoring_method = K2Score(data=samples)  # K2 Scoring\n",
        "est = HillClimbSearch(data=samples)\n",
        "estimated_model = est.estimate(\n",
        "    scoring_method=scoring_method, max_indegree=4, max_iter=int(1e4) # <- Learned Model Structure\n",
        ")\n",
        "get_f1_score(estimated_model, model) # <- Evaluate the learned model structure."
      ],
      "metadata": {
        "id": "Yy4v8b5D00Hc",
        "outputId": "60bfda0e-a2a6-43b4-a119-079275376f12",
        "colab": {
          "base_uri": "https://localhost:8080/",
          "height": 66,
          "referenced_widgets": [
            "f0f0fff5b0c44f1585cc57a310315237",
            "95b57ff5fdcc44dbb811c49e1e202d9a",
            "8da251486d974d349607d4858f3f891a",
            "9c32ba7bf5414b44929e748ac4c883af",
            "c94798b502da4c6cadb447ee97d0f7a4",
            "a431516ba6ba4cbb93bca96208983eb6",
            "a5eb700fbcb64347be93fff5d2ea7ea8",
            "35236456edb5495ca336ad22703a39b4",
            "41580ce95c614365bb63b3f03513a205",
            "d0306b9f81cd41cfbd5b8023a7ce1253",
            "ac46a69643774bd8b9a6d2334a29f889"
          ]
        }
      },
      "execution_count": null,
      "outputs": [
        {
          "output_type": "display_data",
          "data": {
            "text/plain": [
              "  0%|          | 0/10000 [00:00<?, ?it/s]"
            ],
            "application/vnd.jupyter.widget-view+json": {
              "version_major": 2,
              "version_minor": 0,
              "model_id": "f0f0fff5b0c44f1585cc57a310315237"
            }
          },
          "metadata": {}
        },
        {
          "output_type": "stream",
          "name": "stdout",
          "text": [
            "F1-score for the model skeleton:  0.6935483870967742\n"
          ]
        }
      ]
    },
    {
      "cell_type": "markdown",
      "source": [
        "Structure Learning Example: https://pgmpy.org/detailed_notebooks/10.%20Learning%20Bayesian%20Networks%20from%20Data.html"
      ],
      "metadata": {
        "id": "EqG8GhR8WRmc"
      }
    },
    {
      "cell_type": "code",
      "source": [
        "import pandas as pd\n",
        "data = pd.DataFrame(data={'fruit': [\"banana\", \"apple\", \"banana\", \"apple\", \"banana\",\"apple\", \"banana\",\n",
        "                                    \"apple\", \"apple\", \"apple\", \"banana\", \"banana\", \"apple\", \"banana\",],\n",
        "                          'tasty': [\"yes\", \"no\", \"yes\", \"yes\", \"yes\", \"yes\", \"yes\",\n",
        "                                    \"yes\", \"yes\", \"yes\", \"yes\", \"no\", \"no\", \"no\"],\n",
        "                          'size': [\"large\", \"large\", \"large\", \"small\", \"large\", \"large\", \"large\",\n",
        "                                    \"small\", \"large\", \"large\", \"large\", \"large\", \"small\", \"small\"]})\n",
        "print(data)"
      ],
      "metadata": {
        "id": "XQgT1s_LWURS",
        "outputId": "46579c39-4448-49fc-a1eb-8c0e091e829f",
        "colab": {
          "base_uri": "https://localhost:8080/"
        }
      },
      "execution_count": null,
      "outputs": [
        {
          "output_type": "stream",
          "name": "stdout",
          "text": [
            "     fruit tasty   size\n",
            "0   banana   yes  large\n",
            "1    apple    no  large\n",
            "2   banana   yes  large\n",
            "3    apple   yes  small\n",
            "4   banana   yes  large\n",
            "5    apple   yes  large\n",
            "6   banana   yes  large\n",
            "7    apple   yes  small\n",
            "8    apple   yes  large\n",
            "9    apple   yes  large\n",
            "10  banana   yes  large\n",
            "11  banana    no  large\n",
            "12   apple    no  small\n",
            "13  banana    no  small\n"
          ]
        }
      ]
    },
    {
      "cell_type": "code",
      "source": [
        "from pgmpy.models import BayesianModel\n",
        "\n",
        "model = BayesianModel([('fruit', 'tasty'), ('size', 'tasty')])  # fruit -> tasty <- size"
      ],
      "metadata": {
        "id": "-NLUhvJoWeZ7",
        "outputId": "e244fb12-31e8-4539-93b8-538779a83016",
        "colab": {
          "base_uri": "https://localhost:8080/"
        }
      },
      "execution_count": null,
      "outputs": [
        {
          "output_type": "stream",
          "name": "stderr",
          "text": [
            "WARNING:pgmpy:BayesianModel has been renamed to BayesianNetwork. Please use BayesianNetwork class, BayesianModel will be removed in future.\n"
          ]
        }
      ]
    },
    {
      "cell_type": "code",
      "source": [
        "from pgmpy.estimators import ParameterEstimator\n",
        "pe = ParameterEstimator(model, data)\n",
        "print(\"\\n\", pe.state_counts('fruit'))  # unconditional\n",
        "print(\"\\n\", pe.state_counts('tasty'))  # conditional on fruit and size"
      ],
      "metadata": {
        "id": "uj6zc_HBWifo",
        "outputId": "8b782461-919d-45d9-d246-45c025b807ad",
        "colab": {
          "base_uri": "https://localhost:8080/"
        }
      },
      "execution_count": null,
      "outputs": [
        {
          "output_type": "stream",
          "name": "stdout",
          "text": [
            "\n",
            "         fruit\n",
            "apple       7\n",
            "banana      7\n",
            "\n",
            " fruit apple       banana      \n",
            "size  large small  large small\n",
            "tasty                         \n",
            "no      1.0   1.0    1.0   1.0\n",
            "yes     3.0   2.0    5.0   0.0\n"
          ]
        }
      ]
    },
    {
      "cell_type": "code",
      "source": [
        "# Maximum Likelihood Estimation (not suitable for distributions with high cardinality)\n",
        "from pgmpy.estimators import MaximumLikelihoodEstimator\n",
        "mle = MaximumLikelihoodEstimator(model, data)\n",
        "print(mle.estimate_cpd('fruit'))  # unconditional\n",
        "print(mle.estimate_cpd('tasty'))  # conditional"
      ],
      "metadata": {
        "id": "jXfBCyq5W3FB",
        "outputId": "0ae9176c-3d77-42cd-82c7-38511ef4107d",
        "colab": {
          "base_uri": "https://localhost:8080/"
        }
      },
      "execution_count": null,
      "outputs": [
        {
          "output_type": "stream",
          "name": "stdout",
          "text": [
            "+---------------+-----+\n",
            "| fruit(apple)  | 0.5 |\n",
            "+---------------+-----+\n",
            "| fruit(banana) | 0.5 |\n",
            "+---------------+-----+\n",
            "+------------+--------------+--------------------+---------------------+---------------+\n",
            "| fruit      | fruit(apple) | fruit(apple)       | fruit(banana)       | fruit(banana) |\n",
            "+------------+--------------+--------------------+---------------------+---------------+\n",
            "| size       | size(large)  | size(small)        | size(large)         | size(small)   |\n",
            "+------------+--------------+--------------------+---------------------+---------------+\n",
            "| tasty(no)  | 0.25         | 0.3333333333333333 | 0.16666666666666666 | 1.0           |\n",
            "+------------+--------------+--------------------+---------------------+---------------+\n",
            "| tasty(yes) | 0.75         | 0.6666666666666666 | 0.8333333333333334  | 0.0           |\n",
            "+------------+--------------+--------------------+---------------------+---------------+\n"
          ]
        }
      ]
    },
    {
      "cell_type": "code",
      "source": [
        "# Calibrate all CPDs of `model` using MLE:\n",
        "model.fit(data, estimator=MaximumLikelihoodEstimator)"
      ],
      "metadata": {
        "id": "xcuMoppEXLoR"
      },
      "execution_count": null,
      "outputs": []
    },
    {
      "cell_type": "code",
      "source": [
        "from pgmpy.estimators import BayesianEstimator\n",
        "est = BayesianEstimator(model, data)\n",
        "\n",
        "print(est.estimate_cpd('tasty', prior_type='BDeu', equivalent_sample_size=10))"
      ],
      "metadata": {
        "id": "F-vH-piSh6-c",
        "outputId": "3df10cba-7893-4672-925a-8222c80c98d4",
        "colab": {
          "base_uri": "https://localhost:8080/"
        }
      },
      "execution_count": null,
      "outputs": [
        {
          "output_type": "stream",
          "name": "stdout",
          "text": [
            "+------------+---------------------+--------------------+--------------------+---------------------+\n",
            "| fruit      | fruit(apple)        | fruit(apple)       | fruit(banana)      | fruit(banana)       |\n",
            "+------------+---------------------+--------------------+--------------------+---------------------+\n",
            "| size       | size(large)         | size(small)        | size(large)        | size(small)         |\n",
            "+------------+---------------------+--------------------+--------------------+---------------------+\n",
            "| tasty(no)  | 0.34615384615384615 | 0.4090909090909091 | 0.2647058823529412 | 0.6428571428571429  |\n",
            "+------------+---------------------+--------------------+--------------------+---------------------+\n",
            "| tasty(yes) | 0.6538461538461539  | 0.5909090909090909 | 0.7352941176470589 | 0.35714285714285715 |\n",
            "+------------+---------------------+--------------------+--------------------+---------------------+\n"
          ]
        }
      ]
    },
    {
      "cell_type": "code",
      "source": [
        "import numpy as np\n",
        "import pandas as pd\n",
        "from pgmpy.models import BayesianModel\n",
        "from pgmpy.estimators import BayesianEstimator\n",
        "\n",
        "# generate data\n",
        "data = pd.DataFrame(np.random.randint(low=0, high=2, size=(5000, 4)), columns=['A', 'B', 'C', 'D'])\n",
        "model = BayesianModel([('A', 'B'), ('A', 'C'), ('D', 'C'), ('B', 'D')])\n",
        "\n",
        "model.fit(data, estimator=BayesianEstimator, prior_type=\"BDeu\") # default equivalent_sample_size=5\n",
        "for cpd in model.get_cpds():\n",
        "    print(cpd)"
      ],
      "metadata": {
        "id": "XiQtO2_Oiami",
        "outputId": "9a9543ba-09a0-4487-8038-d8fc74fb4ef7",
        "colab": {
          "base_uri": "https://localhost:8080/"
        }
      },
      "execution_count": null,
      "outputs": [
        {
          "output_type": "stream",
          "name": "stderr",
          "text": [
            "WARNING:pgmpy:BayesianModel has been renamed to BayesianNetwork. Please use BayesianNetwork class, BayesianModel will be removed in future.\n"
          ]
        },
        {
          "output_type": "stream",
          "name": "stdout",
          "text": [
            "+------+----------+\n",
            "| A(0) | 0.499401 |\n",
            "+------+----------+\n",
            "| A(1) | 0.500599 |\n",
            "+------+----------+\n",
            "+------+------------------+--------------------+\n",
            "| A    | A(0)             | A(1)               |\n",
            "+------+------------------+--------------------+\n",
            "| B(0) | 0.48499699939988 | 0.4882259030133706 |\n",
            "+------+------------------+--------------------+\n",
            "| B(1) | 0.51500300060012 | 0.5117740969866295 |\n",
            "+------+------------------+--------------------+\n",
            "+------+---------------------+--------------------+--------------------+---------------------+\n",
            "| A    | A(0)                | A(0)               | A(1)               | A(1)                |\n",
            "+------+---------------------+--------------------+--------------------+---------------------+\n",
            "| D    | D(0)                | D(1)               | D(0)               | D(1)                |\n",
            "+------+---------------------+--------------------+--------------------+---------------------+\n",
            "| C(0) | 0.49569724232348916 | 0.5065506653019447 | 0.4929203539823009 | 0.49959489568563903 |\n",
            "+------+---------------------+--------------------+--------------------+---------------------+\n",
            "| C(1) | 0.5043027576765109  | 0.4934493346980553 | 0.5070796460176992 | 0.5004051043143609  |\n",
            "+------+---------------------+--------------------+--------------------+---------------------+\n",
            "+------+--------------------+--------------------+\n",
            "| B    | B(0)               | B(1)               |\n",
            "+------+--------------------+--------------------+\n",
            "| D(0) | 0.5162184356394991 | 0.502918855808523  |\n",
            "+------+--------------------+--------------------+\n",
            "| D(1) | 0.4837815643605009 | 0.4970811441914769 |\n",
            "+------+--------------------+--------------------+\n"
          ]
        }
      ]
    },
    {
      "cell_type": "markdown",
      "source": [
        "To learn model structure (a DAG) from a data set, there are two broad techniques:\n",
        "\n",
        "* score-based structure learning\n",
        "* constraint-based structure learning\n"
      ],
      "metadata": {
        "id": "YYMlW_cRi9V8"
      }
    },
    {
      "cell_type": "code",
      "source": [
        "#Scoring Functions\n",
        "import pandas as pd\n",
        "import numpy as np\n",
        "from pgmpy.estimators import BDeuScore, K2Score, BicScore\n",
        "from pgmpy.models import BayesianModel\n",
        "\n",
        "# create random data sample with 3 variables, where Z is dependent on X, Y:\n",
        "data = pd.DataFrame(np.random.randint(0, 4, size=(5000, 2)), columns=list('XY'))\n",
        "data['Z'] = data['X'] + data['Y']\n",
        "\n",
        "bdeu = BDeuScore(data, equivalent_sample_size=5)\n",
        "k2 = K2Score(data)\n",
        "bic = BicScore(data)\n",
        "\n",
        "model1 = BayesianModel([('X', 'Z'), ('Y', 'Z')])  # X -> Z <- Y\n",
        "model2 = BayesianModel([('X', 'Z'), ('X', 'Y')])  # Y <- X -> Z\n",
        "\n",
        "\n",
        "print(bdeu.score(model1))\n",
        "print(k2.score(model1))\n",
        "print(bic.score(model1))\n",
        "\n",
        "print(bdeu.score(model2))\n",
        "print(k2.score(model2))\n",
        "print(bic.score(model2))"
      ],
      "metadata": {
        "id": "NmjUXfdcj5ui",
        "outputId": "04370d3d-5bd3-4fbc-9035-1870d40e57fc",
        "colab": {
          "base_uri": "https://localhost:8080/"
        }
      },
      "execution_count": null,
      "outputs": [
        {
          "output_type": "stream",
          "name": "stderr",
          "text": [
            "WARNING:pgmpy:BayesianModel has been renamed to BayesianNetwork. Please use BayesianNetwork class, BayesianModel will be removed in future.\n",
            "WARNING:pgmpy:BayesianModel has been renamed to BayesianNetwork. Please use BayesianNetwork class, BayesianModel will be removed in future.\n"
          ]
        },
        {
          "output_type": "stream",
          "name": "stdout",
          "text": [
            "-13940.773334801332\n",
            "-14331.620074152623\n",
            "-14296.811973611726\n",
            "-20906.185120390204\n",
            "-20933.017090678048\n",
            "-20950.225089647756\n"
          ]
        }
      ]
    },
    {
      "cell_type": "code",
      "source": [
        "print(bdeu.local_score('Z', parents=[]))\n",
        "print(bdeu.local_score('Z', parents=['X']))\n",
        "print(bdeu.local_score('Z', parents=['X', 'Y']))"
      ],
      "metadata": {
        "id": "6fzVB-RCkARY",
        "outputId": "14d7c9ee-e44f-4891-804d-07443a3204d4",
        "colab": {
          "base_uri": "https://localhost:8080/"
        }
      },
      "execution_count": null,
      "outputs": [
        {
          "output_type": "stream",
          "name": "stdout",
          "text": [
            "-9179.545622774995\n",
            "-6993.0813396872945\n",
            "-57.12197800235225\n"
          ]
        }
      ]
    },
    {
      "cell_type": "code",
      "source": [
        "#Search Strategies\n",
        "from pgmpy.estimators import ExhaustiveSearch\n",
        "\n",
        "es = ExhaustiveSearch(data, scoring_method=bic)\n",
        "best_model = es.estimate()\n",
        "print(best_model.edges())\n",
        "\n",
        "print(\"\\nAll DAGs by score:\")\n",
        "for score, dag in reversed(es.all_scores()):\n",
        "    print(score, dag.edges())"
      ],
      "metadata": {
        "id": "OdU587z-kQga",
        "outputId": "9b55e98b-b9d4-4f1b-c05c-1a9fcbceef53",
        "colab": {
          "base_uri": "https://localhost:8080/"
        }
      },
      "execution_count": null,
      "outputs": [
        {
          "output_type": "stream",
          "name": "stdout",
          "text": [
            "[('X', 'Z'), ('Y', 'Z')]\n",
            "\n",
            "All DAGs by score:\n",
            "-14296.811973611726 [('X', 'Z'), ('Y', 'Z')]\n",
            "-14330.361658914524 [('Y', 'X'), ('Z', 'X'), ('Z', 'Y')]\n",
            "-14330.361658914524 [('Y', 'Z'), ('Y', 'X'), ('Z', 'X')]\n",
            "-14330.361658914524 [('X', 'Z'), ('Y', 'Z'), ('Y', 'X')]\n",
            "-14330.361658914524 [('X', 'Y'), ('Z', 'X'), ('Z', 'Y')]\n",
            "-14330.361658914524 [('X', 'Y'), ('X', 'Z'), ('Z', 'Y')]\n",
            "-14330.361658914524 [('X', 'Y'), ('X', 'Z'), ('Y', 'Z')]\n",
            "-16485.093757271607 [('X', 'Y'), ('Z', 'Y')]\n",
            "-16485.178775787695 [('Y', 'X'), ('Z', 'X')]\n",
            "-18761.858287471783 [('Z', 'X'), ('Z', 'Y')]\n",
            "-18761.858287471783 [('X', 'Z'), ('Z', 'Y')]\n",
            "-18761.858287471787 [('Y', 'Z'), ('Z', 'X')]\n",
            "-20916.59038582887 [('Z', 'Y')]\n",
            "-20916.590385828873 [('Y', 'Z')]\n",
            "-20916.67540434496 [('Z', 'X')]\n",
            "-20916.67540434496 [('X', 'Z')]\n",
            "-20950.140071131667 [('Y', 'X'), ('Z', 'Y')]\n",
            "-20950.140071131667 [('Y', 'Z'), ('Y', 'X')]\n",
            "-20950.140071131667 [('X', 'Y'), ('Y', 'Z')]\n",
            "-20950.225089647756 [('X', 'Z'), ('Y', 'X')]\n",
            "-20950.225089647756 [('X', 'Y'), ('Z', 'X')]\n",
            "-20950.225089647756 [('X', 'Y'), ('X', 'Z')]\n",
            "-23071.407502702044 []\n",
            "-23104.95718800484 [('Y', 'X')]\n",
            "-23104.95718800484 [('X', 'Y')]\n"
          ]
        }
      ]
    },
    {
      "cell_type": "code",
      "source": [
        "from pgmpy.estimators import HillClimbSearch\n",
        "\n",
        "# create some data with dependencies\n",
        "data = pd.DataFrame(np.random.randint(0, 3, size=(2500, 8)), columns=list('ABCDEFGH'))\n",
        "data['A'] += data['B'] + data['C']\n",
        "data['H'] = data['G'] - data['A']\n",
        "\n",
        "hc = HillClimbSearch(data)\n",
        "best_model = hc.estimate(scoring_method=BicScore(data))\n",
        "print(best_model.edges())"
      ],
      "metadata": {
        "id": "CbD3RyD4kZbl",
        "outputId": "afc1cec1-8956-48a9-c373-8b2908808bdb",
        "colab": {
          "base_uri": "https://localhost:8080/",
          "height": 66,
          "referenced_widgets": [
            "f39503a46512482385d9a8d5f2e698c4",
            "dc3d04e4f34044509c4e46f70c2e1912",
            "a2bcbf692cf5459c971583eaf98de849",
            "77a2f05391fe4f1e90008859d2d38944",
            "4ef4cf7b47e84b51b0aa5087ebe537f9",
            "21f422535681447c93163e24a4f96349",
            "cb1a680ee1284a34a23b76b6a13c7f05",
            "52b143d0040b4cbca55c1cb98971b4ae",
            "ae49adbfdf70468c838b257a7d25b0ba",
            "9db4e889d9194f1584505be6945d13db",
            "52ad22ff79ab4ea7a6cde87b71ed71e5"
          ]
        }
      },
      "execution_count": null,
      "outputs": [
        {
          "output_type": "display_data",
          "data": {
            "text/plain": [
              "  0%|          | 0/1000000 [00:00<?, ?it/s]"
            ],
            "application/vnd.jupyter.widget-view+json": {
              "version_major": 2,
              "version_minor": 0,
              "model_id": "f39503a46512482385d9a8d5f2e698c4"
            }
          },
          "metadata": {}
        },
        {
          "output_type": "stream",
          "name": "stdout",
          "text": [
            "[('A', 'B'), ('A', 'C'), ('B', 'C'), ('G', 'A'), ('H', 'A'), ('H', 'G')]\n"
          ]
        }
      ]
    },
    {
      "cell_type": "code",
      "source": [
        "#(Conditional) Independence Tests\n",
        "from pgmpy.estimators import PC\n",
        "from pgmpy.estimators.CITests import chi_square\n",
        "\n",
        "data = pd.DataFrame(np.random.randint(0, 3, size=(2500, 8)), columns=list('ABCDEFGH'))\n",
        "data['A'] += data['B'] + data['C']\n",
        "data['H'] = data['G'] - data['A']\n",
        "data['E'] *= data['F']\n",
        "\n",
        "print(chi_square(X='B', Y='H', Z=[], data=data, significance_level=0.05))          # dependent\n",
        "print(chi_square(X='B', Y='E', Z=[], data=data, significance_level=0.05))          # independent\n",
        "print(chi_square(X='B', Y='H', Z=['A'], data=data, significance_level=0.05))       # independent\n",
        "print(chi_square(X='A', Y='G', Z=[], data=data, significance_level=0.05))          # independent\n",
        "print(chi_square(X='A', Y='G', Z=['H'], data=data, significance_level=0.05))       # dependent"
      ],
      "metadata": {
        "id": "FMwzASVRkqh7",
        "outputId": "0ee5dedd-2319-482c-9ea9-d6ac80ba5bbc",
        "colab": {
          "base_uri": "https://localhost:8080/"
        }
      },
      "execution_count": null,
      "outputs": [
        {
          "output_type": "stream",
          "name": "stdout",
          "text": [
            "False\n",
            "True\n",
            "True\n",
            "False\n",
            "False\n"
          ]
        },
        {
          "output_type": "stream",
          "name": "stderr",
          "text": [
            "/usr/local/lib/python3.10/dist-packages/pgmpy/estimators/CITests.py:547: FutureWarning: In a future version of pandas, a length 1 tuple will be returned when iterating over a groupby with a grouper equal to a list of length 1. Don't supply a list with a single grouper to avoid this warning.\n",
            "  for z_state, df in data.groupby(Z):\n",
            "/usr/local/lib/python3.10/dist-packages/pgmpy/estimators/CITests.py:547: FutureWarning: In a future version of pandas, a length 1 tuple will be returned when iterating over a groupby with a grouper equal to a list of length 1. Don't supply a list with a single grouper to avoid this warning.\n",
            "  for z_state, df in data.groupby(Z):\n"
          ]
        }
      ]
    }
  ],
  "metadata": {
    "kernelspec": {
      "display_name": "Python 3",
      "language": "python",
      "name": "python3"
    },
    "language_info": {
      "codemirror_mode": {
        "name": "ipython",
        "version": 3
      },
      "file_extension": ".py",
      "mimetype": "text/x-python",
      "name": "python",
      "nbconvert_exporter": "python",
      "pygments_lexer": "ipython3",
      "version": "3.12.0"
    },
    "colab": {
      "provenance": [],
      "include_colab_link": true
    },
    "widgets": {
      "application/vnd.jupyter.widget-state+json": {
        "a2d5566012c444e385bb566a950fc7d4": {
          "model_module": "@jupyter-widgets/controls",
          "model_name": "HBoxModel",
          "model_module_version": "1.5.0",
          "state": {
            "_dom_classes": [],
            "_model_module": "@jupyter-widgets/controls",
            "_model_module_version": "1.5.0",
            "_model_name": "HBoxModel",
            "_view_count": null,
            "_view_module": "@jupyter-widgets/controls",
            "_view_module_version": "1.5.0",
            "_view_name": "HBoxView",
            "box_style": "",
            "children": [
              "IPY_MODEL_77093251d9794041aecc6edb1b8b15ef",
              "IPY_MODEL_2a8b015d518a4b64ba6bff5a9b6118ac",
              "IPY_MODEL_1fb2b3b51bd441afbf549e7ed40e3097"
            ],
            "layout": "IPY_MODEL_4a89cb79d1bb4bccb3660026ef9ce313"
          }
        },
        "77093251d9794041aecc6edb1b8b15ef": {
          "model_module": "@jupyter-widgets/controls",
          "model_name": "HTMLModel",
          "model_module_version": "1.5.0",
          "state": {
            "_dom_classes": [],
            "_model_module": "@jupyter-widgets/controls",
            "_model_module_version": "1.5.0",
            "_model_name": "HTMLModel",
            "_view_count": null,
            "_view_module": "@jupyter-widgets/controls",
            "_view_module_version": "1.5.0",
            "_view_name": "HTMLView",
            "description": "",
            "description_tooltip": null,
            "layout": "IPY_MODEL_9192fc7fffc843289461059b2207c5a6",
            "placeholder": "​",
            "style": "IPY_MODEL_974fb9fb3880474a93c1efbf52b0d1dd",
            "value": "Generating for node: BP: 100%"
          }
        },
        "2a8b015d518a4b64ba6bff5a9b6118ac": {
          "model_module": "@jupyter-widgets/controls",
          "model_name": "FloatProgressModel",
          "model_module_version": "1.5.0",
          "state": {
            "_dom_classes": [],
            "_model_module": "@jupyter-widgets/controls",
            "_model_module_version": "1.5.0",
            "_model_name": "FloatProgressModel",
            "_view_count": null,
            "_view_module": "@jupyter-widgets/controls",
            "_view_module_version": "1.5.0",
            "_view_name": "ProgressView",
            "bar_style": "success",
            "description": "",
            "description_tooltip": null,
            "layout": "IPY_MODEL_976c128cdf09434da00fa76ee37bfb8b",
            "max": 37,
            "min": 0,
            "orientation": "horizontal",
            "style": "IPY_MODEL_c6f72a44513548e68e21385c61a2b2b9",
            "value": 37
          }
        },
        "1fb2b3b51bd441afbf549e7ed40e3097": {
          "model_module": "@jupyter-widgets/controls",
          "model_name": "HTMLModel",
          "model_module_version": "1.5.0",
          "state": {
            "_dom_classes": [],
            "_model_module": "@jupyter-widgets/controls",
            "_model_module_version": "1.5.0",
            "_model_name": "HTMLModel",
            "_view_count": null,
            "_view_module": "@jupyter-widgets/controls",
            "_view_module_version": "1.5.0",
            "_view_name": "HTMLView",
            "description": "",
            "description_tooltip": null,
            "layout": "IPY_MODEL_a17c1c81bf6e427aa97193817893aa9d",
            "placeholder": "​",
            "style": "IPY_MODEL_46410cf33dd64f58bf81df6723674e24",
            "value": " 37/37 [00:00&lt;00:00, 89.47it/s]"
          }
        },
        "4a89cb79d1bb4bccb3660026ef9ce313": {
          "model_module": "@jupyter-widgets/base",
          "model_name": "LayoutModel",
          "model_module_version": "1.2.0",
          "state": {
            "_model_module": "@jupyter-widgets/base",
            "_model_module_version": "1.2.0",
            "_model_name": "LayoutModel",
            "_view_count": null,
            "_view_module": "@jupyter-widgets/base",
            "_view_module_version": "1.2.0",
            "_view_name": "LayoutView",
            "align_content": null,
            "align_items": null,
            "align_self": null,
            "border": null,
            "bottom": null,
            "display": null,
            "flex": null,
            "flex_flow": null,
            "grid_area": null,
            "grid_auto_columns": null,
            "grid_auto_flow": null,
            "grid_auto_rows": null,
            "grid_column": null,
            "grid_gap": null,
            "grid_row": null,
            "grid_template_areas": null,
            "grid_template_columns": null,
            "grid_template_rows": null,
            "height": null,
            "justify_content": null,
            "justify_items": null,
            "left": null,
            "margin": null,
            "max_height": null,
            "max_width": null,
            "min_height": null,
            "min_width": null,
            "object_fit": null,
            "object_position": null,
            "order": null,
            "overflow": null,
            "overflow_x": null,
            "overflow_y": null,
            "padding": null,
            "right": null,
            "top": null,
            "visibility": null,
            "width": null
          }
        },
        "9192fc7fffc843289461059b2207c5a6": {
          "model_module": "@jupyter-widgets/base",
          "model_name": "LayoutModel",
          "model_module_version": "1.2.0",
          "state": {
            "_model_module": "@jupyter-widgets/base",
            "_model_module_version": "1.2.0",
            "_model_name": "LayoutModel",
            "_view_count": null,
            "_view_module": "@jupyter-widgets/base",
            "_view_module_version": "1.2.0",
            "_view_name": "LayoutView",
            "align_content": null,
            "align_items": null,
            "align_self": null,
            "border": null,
            "bottom": null,
            "display": null,
            "flex": null,
            "flex_flow": null,
            "grid_area": null,
            "grid_auto_columns": null,
            "grid_auto_flow": null,
            "grid_auto_rows": null,
            "grid_column": null,
            "grid_gap": null,
            "grid_row": null,
            "grid_template_areas": null,
            "grid_template_columns": null,
            "grid_template_rows": null,
            "height": null,
            "justify_content": null,
            "justify_items": null,
            "left": null,
            "margin": null,
            "max_height": null,
            "max_width": null,
            "min_height": null,
            "min_width": null,
            "object_fit": null,
            "object_position": null,
            "order": null,
            "overflow": null,
            "overflow_x": null,
            "overflow_y": null,
            "padding": null,
            "right": null,
            "top": null,
            "visibility": null,
            "width": null
          }
        },
        "974fb9fb3880474a93c1efbf52b0d1dd": {
          "model_module": "@jupyter-widgets/controls",
          "model_name": "DescriptionStyleModel",
          "model_module_version": "1.5.0",
          "state": {
            "_model_module": "@jupyter-widgets/controls",
            "_model_module_version": "1.5.0",
            "_model_name": "DescriptionStyleModel",
            "_view_count": null,
            "_view_module": "@jupyter-widgets/base",
            "_view_module_version": "1.2.0",
            "_view_name": "StyleView",
            "description_width": ""
          }
        },
        "976c128cdf09434da00fa76ee37bfb8b": {
          "model_module": "@jupyter-widgets/base",
          "model_name": "LayoutModel",
          "model_module_version": "1.2.0",
          "state": {
            "_model_module": "@jupyter-widgets/base",
            "_model_module_version": "1.2.0",
            "_model_name": "LayoutModel",
            "_view_count": null,
            "_view_module": "@jupyter-widgets/base",
            "_view_module_version": "1.2.0",
            "_view_name": "LayoutView",
            "align_content": null,
            "align_items": null,
            "align_self": null,
            "border": null,
            "bottom": null,
            "display": null,
            "flex": null,
            "flex_flow": null,
            "grid_area": null,
            "grid_auto_columns": null,
            "grid_auto_flow": null,
            "grid_auto_rows": null,
            "grid_column": null,
            "grid_gap": null,
            "grid_row": null,
            "grid_template_areas": null,
            "grid_template_columns": null,
            "grid_template_rows": null,
            "height": null,
            "justify_content": null,
            "justify_items": null,
            "left": null,
            "margin": null,
            "max_height": null,
            "max_width": null,
            "min_height": null,
            "min_width": null,
            "object_fit": null,
            "object_position": null,
            "order": null,
            "overflow": null,
            "overflow_x": null,
            "overflow_y": null,
            "padding": null,
            "right": null,
            "top": null,
            "visibility": null,
            "width": null
          }
        },
        "c6f72a44513548e68e21385c61a2b2b9": {
          "model_module": "@jupyter-widgets/controls",
          "model_name": "ProgressStyleModel",
          "model_module_version": "1.5.0",
          "state": {
            "_model_module": "@jupyter-widgets/controls",
            "_model_module_version": "1.5.0",
            "_model_name": "ProgressStyleModel",
            "_view_count": null,
            "_view_module": "@jupyter-widgets/base",
            "_view_module_version": "1.2.0",
            "_view_name": "StyleView",
            "bar_color": null,
            "description_width": ""
          }
        },
        "a17c1c81bf6e427aa97193817893aa9d": {
          "model_module": "@jupyter-widgets/base",
          "model_name": "LayoutModel",
          "model_module_version": "1.2.0",
          "state": {
            "_model_module": "@jupyter-widgets/base",
            "_model_module_version": "1.2.0",
            "_model_name": "LayoutModel",
            "_view_count": null,
            "_view_module": "@jupyter-widgets/base",
            "_view_module_version": "1.2.0",
            "_view_name": "LayoutView",
            "align_content": null,
            "align_items": null,
            "align_self": null,
            "border": null,
            "bottom": null,
            "display": null,
            "flex": null,
            "flex_flow": null,
            "grid_area": null,
            "grid_auto_columns": null,
            "grid_auto_flow": null,
            "grid_auto_rows": null,
            "grid_column": null,
            "grid_gap": null,
            "grid_row": null,
            "grid_template_areas": null,
            "grid_template_columns": null,
            "grid_template_rows": null,
            "height": null,
            "justify_content": null,
            "justify_items": null,
            "left": null,
            "margin": null,
            "max_height": null,
            "max_width": null,
            "min_height": null,
            "min_width": null,
            "object_fit": null,
            "object_position": null,
            "order": null,
            "overflow": null,
            "overflow_x": null,
            "overflow_y": null,
            "padding": null,
            "right": null,
            "top": null,
            "visibility": null,
            "width": null
          }
        },
        "46410cf33dd64f58bf81df6723674e24": {
          "model_module": "@jupyter-widgets/controls",
          "model_name": "DescriptionStyleModel",
          "model_module_version": "1.5.0",
          "state": {
            "_model_module": "@jupyter-widgets/controls",
            "_model_module_version": "1.5.0",
            "_model_name": "DescriptionStyleModel",
            "_view_count": null,
            "_view_module": "@jupyter-widgets/base",
            "_view_module_version": "1.2.0",
            "_view_name": "StyleView",
            "description_width": ""
          }
        },
        "c6b3bd22487e4ad2adc4d54597211668": {
          "model_module": "@jupyter-widgets/controls",
          "model_name": "HBoxModel",
          "model_module_version": "1.5.0",
          "state": {
            "_dom_classes": [],
            "_model_module": "@jupyter-widgets/controls",
            "_model_module_version": "1.5.0",
            "_model_name": "HBoxModel",
            "_view_count": null,
            "_view_module": "@jupyter-widgets/controls",
            "_view_module_version": "1.5.0",
            "_view_name": "HBoxView",
            "box_style": "",
            "children": [
              "IPY_MODEL_f810aa507080438abf0b4125916b404f",
              "IPY_MODEL_5fbd9d5d8441496083696e86d44c6732",
              "IPY_MODEL_643f9bdfbfdd4f1cbe4fa09873788d4b"
            ],
            "layout": "IPY_MODEL_79e0c3b7927f4647a472228ca275f5b0"
          }
        },
        "f810aa507080438abf0b4125916b404f": {
          "model_module": "@jupyter-widgets/controls",
          "model_name": "HTMLModel",
          "model_module_version": "1.5.0",
          "state": {
            "_dom_classes": [],
            "_model_module": "@jupyter-widgets/controls",
            "_model_module_version": "1.5.0",
            "_model_name": "HTMLModel",
            "_view_count": null,
            "_view_module": "@jupyter-widgets/controls",
            "_view_module_version": "1.5.0",
            "_view_name": "HTMLView",
            "description": "",
            "description_tooltip": null,
            "layout": "IPY_MODEL_c6334e16a9f244988dee165c91106d31",
            "placeholder": "​",
            "style": "IPY_MODEL_d6f6f2f47a2943efb285f7fb712e3343",
            "value": "Generating for node: BP: 100%"
          }
        },
        "5fbd9d5d8441496083696e86d44c6732": {
          "model_module": "@jupyter-widgets/controls",
          "model_name": "FloatProgressModel",
          "model_module_version": "1.5.0",
          "state": {
            "_dom_classes": [],
            "_model_module": "@jupyter-widgets/controls",
            "_model_module_version": "1.5.0",
            "_model_name": "FloatProgressModel",
            "_view_count": null,
            "_view_module": "@jupyter-widgets/controls",
            "_view_module_version": "1.5.0",
            "_view_name": "ProgressView",
            "bar_style": "success",
            "description": "",
            "description_tooltip": null,
            "layout": "IPY_MODEL_591320670bdc446eb357292959b1a70b",
            "max": 37,
            "min": 0,
            "orientation": "horizontal",
            "style": "IPY_MODEL_b3b421f57f2e40189ac09ff26be52eb3",
            "value": 37
          }
        },
        "643f9bdfbfdd4f1cbe4fa09873788d4b": {
          "model_module": "@jupyter-widgets/controls",
          "model_name": "HTMLModel",
          "model_module_version": "1.5.0",
          "state": {
            "_dom_classes": [],
            "_model_module": "@jupyter-widgets/controls",
            "_model_module_version": "1.5.0",
            "_model_name": "HTMLModel",
            "_view_count": null,
            "_view_module": "@jupyter-widgets/controls",
            "_view_module_version": "1.5.0",
            "_view_name": "HTMLView",
            "description": "",
            "description_tooltip": null,
            "layout": "IPY_MODEL_acb1e5fefe51468a82a0f933264da45e",
            "placeholder": "​",
            "style": "IPY_MODEL_0109a52bc90f4a83ae2ef34b4434b286",
            "value": " 37/37 [00:00&lt;00:00, 215.71it/s]"
          }
        },
        "79e0c3b7927f4647a472228ca275f5b0": {
          "model_module": "@jupyter-widgets/base",
          "model_name": "LayoutModel",
          "model_module_version": "1.2.0",
          "state": {
            "_model_module": "@jupyter-widgets/base",
            "_model_module_version": "1.2.0",
            "_model_name": "LayoutModel",
            "_view_count": null,
            "_view_module": "@jupyter-widgets/base",
            "_view_module_version": "1.2.0",
            "_view_name": "LayoutView",
            "align_content": null,
            "align_items": null,
            "align_self": null,
            "border": null,
            "bottom": null,
            "display": null,
            "flex": null,
            "flex_flow": null,
            "grid_area": null,
            "grid_auto_columns": null,
            "grid_auto_flow": null,
            "grid_auto_rows": null,
            "grid_column": null,
            "grid_gap": null,
            "grid_row": null,
            "grid_template_areas": null,
            "grid_template_columns": null,
            "grid_template_rows": null,
            "height": null,
            "justify_content": null,
            "justify_items": null,
            "left": null,
            "margin": null,
            "max_height": null,
            "max_width": null,
            "min_height": null,
            "min_width": null,
            "object_fit": null,
            "object_position": null,
            "order": null,
            "overflow": null,
            "overflow_x": null,
            "overflow_y": null,
            "padding": null,
            "right": null,
            "top": null,
            "visibility": null,
            "width": null
          }
        },
        "c6334e16a9f244988dee165c91106d31": {
          "model_module": "@jupyter-widgets/base",
          "model_name": "LayoutModel",
          "model_module_version": "1.2.0",
          "state": {
            "_model_module": "@jupyter-widgets/base",
            "_model_module_version": "1.2.0",
            "_model_name": "LayoutModel",
            "_view_count": null,
            "_view_module": "@jupyter-widgets/base",
            "_view_module_version": "1.2.0",
            "_view_name": "LayoutView",
            "align_content": null,
            "align_items": null,
            "align_self": null,
            "border": null,
            "bottom": null,
            "display": null,
            "flex": null,
            "flex_flow": null,
            "grid_area": null,
            "grid_auto_columns": null,
            "grid_auto_flow": null,
            "grid_auto_rows": null,
            "grid_column": null,
            "grid_gap": null,
            "grid_row": null,
            "grid_template_areas": null,
            "grid_template_columns": null,
            "grid_template_rows": null,
            "height": null,
            "justify_content": null,
            "justify_items": null,
            "left": null,
            "margin": null,
            "max_height": null,
            "max_width": null,
            "min_height": null,
            "min_width": null,
            "object_fit": null,
            "object_position": null,
            "order": null,
            "overflow": null,
            "overflow_x": null,
            "overflow_y": null,
            "padding": null,
            "right": null,
            "top": null,
            "visibility": null,
            "width": null
          }
        },
        "d6f6f2f47a2943efb285f7fb712e3343": {
          "model_module": "@jupyter-widgets/controls",
          "model_name": "DescriptionStyleModel",
          "model_module_version": "1.5.0",
          "state": {
            "_model_module": "@jupyter-widgets/controls",
            "_model_module_version": "1.5.0",
            "_model_name": "DescriptionStyleModel",
            "_view_count": null,
            "_view_module": "@jupyter-widgets/base",
            "_view_module_version": "1.2.0",
            "_view_name": "StyleView",
            "description_width": ""
          }
        },
        "591320670bdc446eb357292959b1a70b": {
          "model_module": "@jupyter-widgets/base",
          "model_name": "LayoutModel",
          "model_module_version": "1.2.0",
          "state": {
            "_model_module": "@jupyter-widgets/base",
            "_model_module_version": "1.2.0",
            "_model_name": "LayoutModel",
            "_view_count": null,
            "_view_module": "@jupyter-widgets/base",
            "_view_module_version": "1.2.0",
            "_view_name": "LayoutView",
            "align_content": null,
            "align_items": null,
            "align_self": null,
            "border": null,
            "bottom": null,
            "display": null,
            "flex": null,
            "flex_flow": null,
            "grid_area": null,
            "grid_auto_columns": null,
            "grid_auto_flow": null,
            "grid_auto_rows": null,
            "grid_column": null,
            "grid_gap": null,
            "grid_row": null,
            "grid_template_areas": null,
            "grid_template_columns": null,
            "grid_template_rows": null,
            "height": null,
            "justify_content": null,
            "justify_items": null,
            "left": null,
            "margin": null,
            "max_height": null,
            "max_width": null,
            "min_height": null,
            "min_width": null,
            "object_fit": null,
            "object_position": null,
            "order": null,
            "overflow": null,
            "overflow_x": null,
            "overflow_y": null,
            "padding": null,
            "right": null,
            "top": null,
            "visibility": null,
            "width": null
          }
        },
        "b3b421f57f2e40189ac09ff26be52eb3": {
          "model_module": "@jupyter-widgets/controls",
          "model_name": "ProgressStyleModel",
          "model_module_version": "1.5.0",
          "state": {
            "_model_module": "@jupyter-widgets/controls",
            "_model_module_version": "1.5.0",
            "_model_name": "ProgressStyleModel",
            "_view_count": null,
            "_view_module": "@jupyter-widgets/base",
            "_view_module_version": "1.2.0",
            "_view_name": "StyleView",
            "bar_color": null,
            "description_width": ""
          }
        },
        "acb1e5fefe51468a82a0f933264da45e": {
          "model_module": "@jupyter-widgets/base",
          "model_name": "LayoutModel",
          "model_module_version": "1.2.0",
          "state": {
            "_model_module": "@jupyter-widgets/base",
            "_model_module_version": "1.2.0",
            "_model_name": "LayoutModel",
            "_view_count": null,
            "_view_module": "@jupyter-widgets/base",
            "_view_module_version": "1.2.0",
            "_view_name": "LayoutView",
            "align_content": null,
            "align_items": null,
            "align_self": null,
            "border": null,
            "bottom": null,
            "display": null,
            "flex": null,
            "flex_flow": null,
            "grid_area": null,
            "grid_auto_columns": null,
            "grid_auto_flow": null,
            "grid_auto_rows": null,
            "grid_column": null,
            "grid_gap": null,
            "grid_row": null,
            "grid_template_areas": null,
            "grid_template_columns": null,
            "grid_template_rows": null,
            "height": null,
            "justify_content": null,
            "justify_items": null,
            "left": null,
            "margin": null,
            "max_height": null,
            "max_width": null,
            "min_height": null,
            "min_width": null,
            "object_fit": null,
            "object_position": null,
            "order": null,
            "overflow": null,
            "overflow_x": null,
            "overflow_y": null,
            "padding": null,
            "right": null,
            "top": null,
            "visibility": null,
            "width": null
          }
        },
        "0109a52bc90f4a83ae2ef34b4434b286": {
          "model_module": "@jupyter-widgets/controls",
          "model_name": "DescriptionStyleModel",
          "model_module_version": "1.5.0",
          "state": {
            "_model_module": "@jupyter-widgets/controls",
            "_model_module_version": "1.5.0",
            "_model_name": "DescriptionStyleModel",
            "_view_count": null,
            "_view_module": "@jupyter-widgets/base",
            "_view_module_version": "1.2.0",
            "_view_name": "StyleView",
            "description_width": ""
          }
        },
        "f0f0fff5b0c44f1585cc57a310315237": {
          "model_module": "@jupyter-widgets/controls",
          "model_name": "HBoxModel",
          "model_module_version": "1.5.0",
          "state": {
            "_dom_classes": [],
            "_model_module": "@jupyter-widgets/controls",
            "_model_module_version": "1.5.0",
            "_model_name": "HBoxModel",
            "_view_count": null,
            "_view_module": "@jupyter-widgets/controls",
            "_view_module_version": "1.5.0",
            "_view_name": "HBoxView",
            "box_style": "",
            "children": [
              "IPY_MODEL_95b57ff5fdcc44dbb811c49e1e202d9a",
              "IPY_MODEL_8da251486d974d349607d4858f3f891a",
              "IPY_MODEL_9c32ba7bf5414b44929e748ac4c883af"
            ],
            "layout": "IPY_MODEL_c94798b502da4c6cadb447ee97d0f7a4"
          }
        },
        "95b57ff5fdcc44dbb811c49e1e202d9a": {
          "model_module": "@jupyter-widgets/controls",
          "model_name": "HTMLModel",
          "model_module_version": "1.5.0",
          "state": {
            "_dom_classes": [],
            "_model_module": "@jupyter-widgets/controls",
            "_model_module_version": "1.5.0",
            "_model_name": "HTMLModel",
            "_view_count": null,
            "_view_module": "@jupyter-widgets/controls",
            "_view_module_version": "1.5.0",
            "_view_name": "HTMLView",
            "description": "",
            "description_tooltip": null,
            "layout": "IPY_MODEL_a431516ba6ba4cbb93bca96208983eb6",
            "placeholder": "​",
            "style": "IPY_MODEL_a5eb700fbcb64347be93fff5d2ea7ea8",
            "value": "  1%"
          }
        },
        "8da251486d974d349607d4858f3f891a": {
          "model_module": "@jupyter-widgets/controls",
          "model_name": "FloatProgressModel",
          "model_module_version": "1.5.0",
          "state": {
            "_dom_classes": [],
            "_model_module": "@jupyter-widgets/controls",
            "_model_module_version": "1.5.0",
            "_model_name": "FloatProgressModel",
            "_view_count": null,
            "_view_module": "@jupyter-widgets/controls",
            "_view_module_version": "1.5.0",
            "_view_name": "ProgressView",
            "bar_style": "danger",
            "description": "",
            "description_tooltip": null,
            "layout": "IPY_MODEL_35236456edb5495ca336ad22703a39b4",
            "max": 10000,
            "min": 0,
            "orientation": "horizontal",
            "style": "IPY_MODEL_41580ce95c614365bb63b3f03513a205",
            "value": 78
          }
        },
        "9c32ba7bf5414b44929e748ac4c883af": {
          "model_module": "@jupyter-widgets/controls",
          "model_name": "HTMLModel",
          "model_module_version": "1.5.0",
          "state": {
            "_dom_classes": [],
            "_model_module": "@jupyter-widgets/controls",
            "_model_module_version": "1.5.0",
            "_model_name": "HTMLModel",
            "_view_count": null,
            "_view_module": "@jupyter-widgets/controls",
            "_view_module_version": "1.5.0",
            "_view_name": "HTMLView",
            "description": "",
            "description_tooltip": null,
            "layout": "IPY_MODEL_d0306b9f81cd41cfbd5b8023a7ce1253",
            "placeholder": "​",
            "style": "IPY_MODEL_ac46a69643774bd8b9a6d2334a29f889",
            "value": " 78/10000 [00:45&lt;38:58,  4.24it/s]"
          }
        },
        "c94798b502da4c6cadb447ee97d0f7a4": {
          "model_module": "@jupyter-widgets/base",
          "model_name": "LayoutModel",
          "model_module_version": "1.2.0",
          "state": {
            "_model_module": "@jupyter-widgets/base",
            "_model_module_version": "1.2.0",
            "_model_name": "LayoutModel",
            "_view_count": null,
            "_view_module": "@jupyter-widgets/base",
            "_view_module_version": "1.2.0",
            "_view_name": "LayoutView",
            "align_content": null,
            "align_items": null,
            "align_self": null,
            "border": null,
            "bottom": null,
            "display": null,
            "flex": null,
            "flex_flow": null,
            "grid_area": null,
            "grid_auto_columns": null,
            "grid_auto_flow": null,
            "grid_auto_rows": null,
            "grid_column": null,
            "grid_gap": null,
            "grid_row": null,
            "grid_template_areas": null,
            "grid_template_columns": null,
            "grid_template_rows": null,
            "height": null,
            "justify_content": null,
            "justify_items": null,
            "left": null,
            "margin": null,
            "max_height": null,
            "max_width": null,
            "min_height": null,
            "min_width": null,
            "object_fit": null,
            "object_position": null,
            "order": null,
            "overflow": null,
            "overflow_x": null,
            "overflow_y": null,
            "padding": null,
            "right": null,
            "top": null,
            "visibility": null,
            "width": null
          }
        },
        "a431516ba6ba4cbb93bca96208983eb6": {
          "model_module": "@jupyter-widgets/base",
          "model_name": "LayoutModel",
          "model_module_version": "1.2.0",
          "state": {
            "_model_module": "@jupyter-widgets/base",
            "_model_module_version": "1.2.0",
            "_model_name": "LayoutModel",
            "_view_count": null,
            "_view_module": "@jupyter-widgets/base",
            "_view_module_version": "1.2.0",
            "_view_name": "LayoutView",
            "align_content": null,
            "align_items": null,
            "align_self": null,
            "border": null,
            "bottom": null,
            "display": null,
            "flex": null,
            "flex_flow": null,
            "grid_area": null,
            "grid_auto_columns": null,
            "grid_auto_flow": null,
            "grid_auto_rows": null,
            "grid_column": null,
            "grid_gap": null,
            "grid_row": null,
            "grid_template_areas": null,
            "grid_template_columns": null,
            "grid_template_rows": null,
            "height": null,
            "justify_content": null,
            "justify_items": null,
            "left": null,
            "margin": null,
            "max_height": null,
            "max_width": null,
            "min_height": null,
            "min_width": null,
            "object_fit": null,
            "object_position": null,
            "order": null,
            "overflow": null,
            "overflow_x": null,
            "overflow_y": null,
            "padding": null,
            "right": null,
            "top": null,
            "visibility": null,
            "width": null
          }
        },
        "a5eb700fbcb64347be93fff5d2ea7ea8": {
          "model_module": "@jupyter-widgets/controls",
          "model_name": "DescriptionStyleModel",
          "model_module_version": "1.5.0",
          "state": {
            "_model_module": "@jupyter-widgets/controls",
            "_model_module_version": "1.5.0",
            "_model_name": "DescriptionStyleModel",
            "_view_count": null,
            "_view_module": "@jupyter-widgets/base",
            "_view_module_version": "1.2.0",
            "_view_name": "StyleView",
            "description_width": ""
          }
        },
        "35236456edb5495ca336ad22703a39b4": {
          "model_module": "@jupyter-widgets/base",
          "model_name": "LayoutModel",
          "model_module_version": "1.2.0",
          "state": {
            "_model_module": "@jupyter-widgets/base",
            "_model_module_version": "1.2.0",
            "_model_name": "LayoutModel",
            "_view_count": null,
            "_view_module": "@jupyter-widgets/base",
            "_view_module_version": "1.2.0",
            "_view_name": "LayoutView",
            "align_content": null,
            "align_items": null,
            "align_self": null,
            "border": null,
            "bottom": null,
            "display": null,
            "flex": null,
            "flex_flow": null,
            "grid_area": null,
            "grid_auto_columns": null,
            "grid_auto_flow": null,
            "grid_auto_rows": null,
            "grid_column": null,
            "grid_gap": null,
            "grid_row": null,
            "grid_template_areas": null,
            "grid_template_columns": null,
            "grid_template_rows": null,
            "height": null,
            "justify_content": null,
            "justify_items": null,
            "left": null,
            "margin": null,
            "max_height": null,
            "max_width": null,
            "min_height": null,
            "min_width": null,
            "object_fit": null,
            "object_position": null,
            "order": null,
            "overflow": null,
            "overflow_x": null,
            "overflow_y": null,
            "padding": null,
            "right": null,
            "top": null,
            "visibility": null,
            "width": null
          }
        },
        "41580ce95c614365bb63b3f03513a205": {
          "model_module": "@jupyter-widgets/controls",
          "model_name": "ProgressStyleModel",
          "model_module_version": "1.5.0",
          "state": {
            "_model_module": "@jupyter-widgets/controls",
            "_model_module_version": "1.5.0",
            "_model_name": "ProgressStyleModel",
            "_view_count": null,
            "_view_module": "@jupyter-widgets/base",
            "_view_module_version": "1.2.0",
            "_view_name": "StyleView",
            "bar_color": null,
            "description_width": ""
          }
        },
        "d0306b9f81cd41cfbd5b8023a7ce1253": {
          "model_module": "@jupyter-widgets/base",
          "model_name": "LayoutModel",
          "model_module_version": "1.2.0",
          "state": {
            "_model_module": "@jupyter-widgets/base",
            "_model_module_version": "1.2.0",
            "_model_name": "LayoutModel",
            "_view_count": null,
            "_view_module": "@jupyter-widgets/base",
            "_view_module_version": "1.2.0",
            "_view_name": "LayoutView",
            "align_content": null,
            "align_items": null,
            "align_self": null,
            "border": null,
            "bottom": null,
            "display": null,
            "flex": null,
            "flex_flow": null,
            "grid_area": null,
            "grid_auto_columns": null,
            "grid_auto_flow": null,
            "grid_auto_rows": null,
            "grid_column": null,
            "grid_gap": null,
            "grid_row": null,
            "grid_template_areas": null,
            "grid_template_columns": null,
            "grid_template_rows": null,
            "height": null,
            "justify_content": null,
            "justify_items": null,
            "left": null,
            "margin": null,
            "max_height": null,
            "max_width": null,
            "min_height": null,
            "min_width": null,
            "object_fit": null,
            "object_position": null,
            "order": null,
            "overflow": null,
            "overflow_x": null,
            "overflow_y": null,
            "padding": null,
            "right": null,
            "top": null,
            "visibility": null,
            "width": null
          }
        },
        "ac46a69643774bd8b9a6d2334a29f889": {
          "model_module": "@jupyter-widgets/controls",
          "model_name": "DescriptionStyleModel",
          "model_module_version": "1.5.0",
          "state": {
            "_model_module": "@jupyter-widgets/controls",
            "_model_module_version": "1.5.0",
            "_model_name": "DescriptionStyleModel",
            "_view_count": null,
            "_view_module": "@jupyter-widgets/base",
            "_view_module_version": "1.2.0",
            "_view_name": "StyleView",
            "description_width": ""
          }
        },
        "f39503a46512482385d9a8d5f2e698c4": {
          "model_module": "@jupyter-widgets/controls",
          "model_name": "HBoxModel",
          "model_module_version": "1.5.0",
          "state": {
            "_dom_classes": [],
            "_model_module": "@jupyter-widgets/controls",
            "_model_module_version": "1.5.0",
            "_model_name": "HBoxModel",
            "_view_count": null,
            "_view_module": "@jupyter-widgets/controls",
            "_view_module_version": "1.5.0",
            "_view_name": "HBoxView",
            "box_style": "",
            "children": [
              "IPY_MODEL_dc3d04e4f34044509c4e46f70c2e1912",
              "IPY_MODEL_a2bcbf692cf5459c971583eaf98de849",
              "IPY_MODEL_77a2f05391fe4f1e90008859d2d38944"
            ],
            "layout": "IPY_MODEL_4ef4cf7b47e84b51b0aa5087ebe537f9"
          }
        },
        "dc3d04e4f34044509c4e46f70c2e1912": {
          "model_module": "@jupyter-widgets/controls",
          "model_name": "HTMLModel",
          "model_module_version": "1.5.0",
          "state": {
            "_dom_classes": [],
            "_model_module": "@jupyter-widgets/controls",
            "_model_module_version": "1.5.0",
            "_model_name": "HTMLModel",
            "_view_count": null,
            "_view_module": "@jupyter-widgets/controls",
            "_view_module_version": "1.5.0",
            "_view_name": "HTMLView",
            "description": "",
            "description_tooltip": null,
            "layout": "IPY_MODEL_21f422535681447c93163e24a4f96349",
            "placeholder": "​",
            "style": "IPY_MODEL_cb1a680ee1284a34a23b76b6a13c7f05",
            "value": "  0%"
          }
        },
        "a2bcbf692cf5459c971583eaf98de849": {
          "model_module": "@jupyter-widgets/controls",
          "model_name": "FloatProgressModel",
          "model_module_version": "1.5.0",
          "state": {
            "_dom_classes": [],
            "_model_module": "@jupyter-widgets/controls",
            "_model_module_version": "1.5.0",
            "_model_name": "FloatProgressModel",
            "_view_count": null,
            "_view_module": "@jupyter-widgets/controls",
            "_view_module_version": "1.5.0",
            "_view_name": "ProgressView",
            "bar_style": "danger",
            "description": "",
            "description_tooltip": null,
            "layout": "IPY_MODEL_52b143d0040b4cbca55c1cb98971b4ae",
            "max": 1000000,
            "min": 0,
            "orientation": "horizontal",
            "style": "IPY_MODEL_ae49adbfdf70468c838b257a7d25b0ba",
            "value": 6
          }
        },
        "77a2f05391fe4f1e90008859d2d38944": {
          "model_module": "@jupyter-widgets/controls",
          "model_name": "HTMLModel",
          "model_module_version": "1.5.0",
          "state": {
            "_dom_classes": [],
            "_model_module": "@jupyter-widgets/controls",
            "_model_module_version": "1.5.0",
            "_model_name": "HTMLModel",
            "_view_count": null,
            "_view_module": "@jupyter-widgets/controls",
            "_view_module_version": "1.5.0",
            "_view_name": "HTMLView",
            "description": "",
            "description_tooltip": null,
            "layout": "IPY_MODEL_9db4e889d9194f1584505be6945d13db",
            "placeholder": "​",
            "style": "IPY_MODEL_52ad22ff79ab4ea7a6cde87b71ed71e5",
            "value": " 6/1000000 [00:00&lt;28:29:35,  9.75it/s]"
          }
        },
        "4ef4cf7b47e84b51b0aa5087ebe537f9": {
          "model_module": "@jupyter-widgets/base",
          "model_name": "LayoutModel",
          "model_module_version": "1.2.0",
          "state": {
            "_model_module": "@jupyter-widgets/base",
            "_model_module_version": "1.2.0",
            "_model_name": "LayoutModel",
            "_view_count": null,
            "_view_module": "@jupyter-widgets/base",
            "_view_module_version": "1.2.0",
            "_view_name": "LayoutView",
            "align_content": null,
            "align_items": null,
            "align_self": null,
            "border": null,
            "bottom": null,
            "display": null,
            "flex": null,
            "flex_flow": null,
            "grid_area": null,
            "grid_auto_columns": null,
            "grid_auto_flow": null,
            "grid_auto_rows": null,
            "grid_column": null,
            "grid_gap": null,
            "grid_row": null,
            "grid_template_areas": null,
            "grid_template_columns": null,
            "grid_template_rows": null,
            "height": null,
            "justify_content": null,
            "justify_items": null,
            "left": null,
            "margin": null,
            "max_height": null,
            "max_width": null,
            "min_height": null,
            "min_width": null,
            "object_fit": null,
            "object_position": null,
            "order": null,
            "overflow": null,
            "overflow_x": null,
            "overflow_y": null,
            "padding": null,
            "right": null,
            "top": null,
            "visibility": null,
            "width": null
          }
        },
        "21f422535681447c93163e24a4f96349": {
          "model_module": "@jupyter-widgets/base",
          "model_name": "LayoutModel",
          "model_module_version": "1.2.0",
          "state": {
            "_model_module": "@jupyter-widgets/base",
            "_model_module_version": "1.2.0",
            "_model_name": "LayoutModel",
            "_view_count": null,
            "_view_module": "@jupyter-widgets/base",
            "_view_module_version": "1.2.0",
            "_view_name": "LayoutView",
            "align_content": null,
            "align_items": null,
            "align_self": null,
            "border": null,
            "bottom": null,
            "display": null,
            "flex": null,
            "flex_flow": null,
            "grid_area": null,
            "grid_auto_columns": null,
            "grid_auto_flow": null,
            "grid_auto_rows": null,
            "grid_column": null,
            "grid_gap": null,
            "grid_row": null,
            "grid_template_areas": null,
            "grid_template_columns": null,
            "grid_template_rows": null,
            "height": null,
            "justify_content": null,
            "justify_items": null,
            "left": null,
            "margin": null,
            "max_height": null,
            "max_width": null,
            "min_height": null,
            "min_width": null,
            "object_fit": null,
            "object_position": null,
            "order": null,
            "overflow": null,
            "overflow_x": null,
            "overflow_y": null,
            "padding": null,
            "right": null,
            "top": null,
            "visibility": null,
            "width": null
          }
        },
        "cb1a680ee1284a34a23b76b6a13c7f05": {
          "model_module": "@jupyter-widgets/controls",
          "model_name": "DescriptionStyleModel",
          "model_module_version": "1.5.0",
          "state": {
            "_model_module": "@jupyter-widgets/controls",
            "_model_module_version": "1.5.0",
            "_model_name": "DescriptionStyleModel",
            "_view_count": null,
            "_view_module": "@jupyter-widgets/base",
            "_view_module_version": "1.2.0",
            "_view_name": "StyleView",
            "description_width": ""
          }
        },
        "52b143d0040b4cbca55c1cb98971b4ae": {
          "model_module": "@jupyter-widgets/base",
          "model_name": "LayoutModel",
          "model_module_version": "1.2.0",
          "state": {
            "_model_module": "@jupyter-widgets/base",
            "_model_module_version": "1.2.0",
            "_model_name": "LayoutModel",
            "_view_count": null,
            "_view_module": "@jupyter-widgets/base",
            "_view_module_version": "1.2.0",
            "_view_name": "LayoutView",
            "align_content": null,
            "align_items": null,
            "align_self": null,
            "border": null,
            "bottom": null,
            "display": null,
            "flex": null,
            "flex_flow": null,
            "grid_area": null,
            "grid_auto_columns": null,
            "grid_auto_flow": null,
            "grid_auto_rows": null,
            "grid_column": null,
            "grid_gap": null,
            "grid_row": null,
            "grid_template_areas": null,
            "grid_template_columns": null,
            "grid_template_rows": null,
            "height": null,
            "justify_content": null,
            "justify_items": null,
            "left": null,
            "margin": null,
            "max_height": null,
            "max_width": null,
            "min_height": null,
            "min_width": null,
            "object_fit": null,
            "object_position": null,
            "order": null,
            "overflow": null,
            "overflow_x": null,
            "overflow_y": null,
            "padding": null,
            "right": null,
            "top": null,
            "visibility": null,
            "width": null
          }
        },
        "ae49adbfdf70468c838b257a7d25b0ba": {
          "model_module": "@jupyter-widgets/controls",
          "model_name": "ProgressStyleModel",
          "model_module_version": "1.5.0",
          "state": {
            "_model_module": "@jupyter-widgets/controls",
            "_model_module_version": "1.5.0",
            "_model_name": "ProgressStyleModel",
            "_view_count": null,
            "_view_module": "@jupyter-widgets/base",
            "_view_module_version": "1.2.0",
            "_view_name": "StyleView",
            "bar_color": null,
            "description_width": ""
          }
        },
        "9db4e889d9194f1584505be6945d13db": {
          "model_module": "@jupyter-widgets/base",
          "model_name": "LayoutModel",
          "model_module_version": "1.2.0",
          "state": {
            "_model_module": "@jupyter-widgets/base",
            "_model_module_version": "1.2.0",
            "_model_name": "LayoutModel",
            "_view_count": null,
            "_view_module": "@jupyter-widgets/base",
            "_view_module_version": "1.2.0",
            "_view_name": "LayoutView",
            "align_content": null,
            "align_items": null,
            "align_self": null,
            "border": null,
            "bottom": null,
            "display": null,
            "flex": null,
            "flex_flow": null,
            "grid_area": null,
            "grid_auto_columns": null,
            "grid_auto_flow": null,
            "grid_auto_rows": null,
            "grid_column": null,
            "grid_gap": null,
            "grid_row": null,
            "grid_template_areas": null,
            "grid_template_columns": null,
            "grid_template_rows": null,
            "height": null,
            "justify_content": null,
            "justify_items": null,
            "left": null,
            "margin": null,
            "max_height": null,
            "max_width": null,
            "min_height": null,
            "min_width": null,
            "object_fit": null,
            "object_position": null,
            "order": null,
            "overflow": null,
            "overflow_x": null,
            "overflow_y": null,
            "padding": null,
            "right": null,
            "top": null,
            "visibility": null,
            "width": null
          }
        },
        "52ad22ff79ab4ea7a6cde87b71ed71e5": {
          "model_module": "@jupyter-widgets/controls",
          "model_name": "DescriptionStyleModel",
          "model_module_version": "1.5.0",
          "state": {
            "_model_module": "@jupyter-widgets/controls",
            "_model_module_version": "1.5.0",
            "_model_name": "DescriptionStyleModel",
            "_view_count": null,
            "_view_module": "@jupyter-widgets/base",
            "_view_module_version": "1.2.0",
            "_view_name": "StyleView",
            "description_width": ""
          }
        }
      }
    }
  },
  "nbformat": 4,
  "nbformat_minor": 0
}